{
  "nbformat": 4,
  "nbformat_minor": 0,
  "metadata": {
    "colab": {
      "provenance": [],
      "include_colab_link": true
    },
    "kernelspec": {
      "name": "python3",
      "display_name": "Python 3"
    },
    "language_info": {
      "name": "python"
    }
  },
  "cells": [
    {
      "cell_type": "markdown",
      "metadata": {
        "id": "view-in-github",
        "colab_type": "text"
      },
      "source": [
        "<a href=\"https://colab.research.google.com/github/aartivjadhav/machine_learning/blob/main/16th_April_Spacy%2C_LSTM.ipynb\" target=\"_parent\"><img src=\"https://colab.research.google.com/assets/colab-badge.svg\" alt=\"Open In Colab\"/></a>"
      ]
    },
    {
      "cell_type": "code",
      "execution_count": null,
      "metadata": {
        "id": "0xu_XoDpgksc"
      },
      "outputs": [],
      "source": [
        "import spacy"
      ]
    },
    {
      "cell_type": "code",
      "source": [
        "spacy.cli.download(\"en\")"
      ],
      "metadata": {
        "colab": {
          "base_uri": "https://localhost:8080/"
        },
        "id": "TqhULvw2hXN1",
        "outputId": "0eb8f740-1212-4a8f-9f4e-b6d699dfa6b0"
      },
      "execution_count": null,
      "outputs": [
        {
          "output_type": "stream",
          "name": "stdout",
          "text": [
            "\u001b[38;5;3m⚠ As of spaCy v3.0, shortcuts like 'en' are deprecated. Please use the\n",
            "full pipeline package name 'en_core_web_sm' instead.\u001b[0m\n",
            "\u001b[38;5;2m✔ Download and installation successful\u001b[0m\n",
            "You can now load the package via spacy.load('en_core_web_sm')\n"
          ]
        }
      ]
    },
    {
      "cell_type": "code",
      "source": [
        "nlp = spacy.load(\"en_core_web_sm\")"
      ],
      "metadata": {
        "id": "wLDx5wb6hfv8"
      },
      "execution_count": null,
      "outputs": []
    },
    {
      "cell_type": "code",
      "source": [
        "doc = nlp(\"Sam is a wonderful guy, he is a good actor too. He lives in London.\")"
      ],
      "metadata": {
        "id": "XfhjMpPWgspc"
      },
      "execution_count": null,
      "outputs": []
    },
    {
      "cell_type": "code",
      "source": [
        "for ent in doc.ents:\n",
        "  print(f\"{ent.text}, {ent.label_}\")"
      ],
      "metadata": {
        "colab": {
          "base_uri": "https://localhost:8080/"
        },
        "id": "TbFd_da7hV9v",
        "outputId": "f364b16b-f965-47a6-a570-a5697c55277c"
      },
      "execution_count": null,
      "outputs": [
        {
          "output_type": "stream",
          "name": "stdout",
          "text": [
            "Sam, PERSON\n",
            "London, GPE\n"
          ]
        }
      ]
    },
    {
      "cell_type": "code",
      "source": [
        "for word in doc:\n",
        "  print(f\"{word.text}, {word.pos_}\")"
      ],
      "metadata": {
        "colab": {
          "base_uri": "https://localhost:8080/"
        },
        "id": "-LQYT5kJhpUv",
        "outputId": "bd0790b9-7776-4d04-eb57-d45981101184"
      },
      "execution_count": null,
      "outputs": [
        {
          "output_type": "stream",
          "name": "stdout",
          "text": [
            "Sam, PROPN\n",
            "is, AUX\n",
            "a, DET\n",
            "wonderful, ADJ\n",
            "guy, NOUN\n",
            ",, PUNCT\n",
            "he, PRON\n",
            "is, AUX\n",
            "a, DET\n",
            "good, ADJ\n",
            "actor, NOUN\n",
            "too, ADV\n",
            "., PUNCT\n",
            "He, PRON\n",
            "lives, VERB\n",
            "in, ADP\n",
            "London, PROPN\n",
            "., PUNCT\n"
          ]
        }
      ]
    },
    {
      "cell_type": "code",
      "source": [
        "spacy.displacy.render(doc, style=\"dep\", jupyter=True)"
      ],
      "metadata": {
        "colab": {
          "base_uri": "https://localhost:8080/",
          "height": 528
        },
        "id": "rmzwY-SDiy7a",
        "outputId": "0aff5d13-239b-4310-e764-47868d760835"
      },
      "execution_count": null,
      "outputs": [
        {
          "output_type": "display_data",
          "data": {
            "text/plain": [
              "<IPython.core.display.HTML object>"
            ],
            "text/html": [
              "<span class=\"tex2jax_ignore\"><svg xmlns=\"http://www.w3.org/2000/svg\" xmlns:xlink=\"http://www.w3.org/1999/xlink\" xml:lang=\"en\" id=\"a55672a204cc40c0a2778b0334892410-0\" class=\"displacy\" width=\"2675\" height=\"487.0\" direction=\"ltr\" style=\"max-width: none; height: 487.0px; color: #000000; background: #ffffff; font-family: Arial; direction: ltr\">\n",
              "<text class=\"displacy-token\" fill=\"currentColor\" text-anchor=\"middle\" y=\"397.0\">\n",
              "    <tspan class=\"displacy-word\" fill=\"currentColor\" x=\"50\">Sam</tspan>\n",
              "    <tspan class=\"displacy-tag\" dy=\"2em\" fill=\"currentColor\" x=\"50\">PROPN</tspan>\n",
              "</text>\n",
              "\n",
              "<text class=\"displacy-token\" fill=\"currentColor\" text-anchor=\"middle\" y=\"397.0\">\n",
              "    <tspan class=\"displacy-word\" fill=\"currentColor\" x=\"225\">is</tspan>\n",
              "    <tspan class=\"displacy-tag\" dy=\"2em\" fill=\"currentColor\" x=\"225\">AUX</tspan>\n",
              "</text>\n",
              "\n",
              "<text class=\"displacy-token\" fill=\"currentColor\" text-anchor=\"middle\" y=\"397.0\">\n",
              "    <tspan class=\"displacy-word\" fill=\"currentColor\" x=\"400\">a</tspan>\n",
              "    <tspan class=\"displacy-tag\" dy=\"2em\" fill=\"currentColor\" x=\"400\">DET</tspan>\n",
              "</text>\n",
              "\n",
              "<text class=\"displacy-token\" fill=\"currentColor\" text-anchor=\"middle\" y=\"397.0\">\n",
              "    <tspan class=\"displacy-word\" fill=\"currentColor\" x=\"575\">wonderful</tspan>\n",
              "    <tspan class=\"displacy-tag\" dy=\"2em\" fill=\"currentColor\" x=\"575\">ADJ</tspan>\n",
              "</text>\n",
              "\n",
              "<text class=\"displacy-token\" fill=\"currentColor\" text-anchor=\"middle\" y=\"397.0\">\n",
              "    <tspan class=\"displacy-word\" fill=\"currentColor\" x=\"750\">guy,</tspan>\n",
              "    <tspan class=\"displacy-tag\" dy=\"2em\" fill=\"currentColor\" x=\"750\">NOUN</tspan>\n",
              "</text>\n",
              "\n",
              "<text class=\"displacy-token\" fill=\"currentColor\" text-anchor=\"middle\" y=\"397.0\">\n",
              "    <tspan class=\"displacy-word\" fill=\"currentColor\" x=\"925\">he</tspan>\n",
              "    <tspan class=\"displacy-tag\" dy=\"2em\" fill=\"currentColor\" x=\"925\">PRON</tspan>\n",
              "</text>\n",
              "\n",
              "<text class=\"displacy-token\" fill=\"currentColor\" text-anchor=\"middle\" y=\"397.0\">\n",
              "    <tspan class=\"displacy-word\" fill=\"currentColor\" x=\"1100\">is</tspan>\n",
              "    <tspan class=\"displacy-tag\" dy=\"2em\" fill=\"currentColor\" x=\"1100\">AUX</tspan>\n",
              "</text>\n",
              "\n",
              "<text class=\"displacy-token\" fill=\"currentColor\" text-anchor=\"middle\" y=\"397.0\">\n",
              "    <tspan class=\"displacy-word\" fill=\"currentColor\" x=\"1275\">a</tspan>\n",
              "    <tspan class=\"displacy-tag\" dy=\"2em\" fill=\"currentColor\" x=\"1275\">DET</tspan>\n",
              "</text>\n",
              "\n",
              "<text class=\"displacy-token\" fill=\"currentColor\" text-anchor=\"middle\" y=\"397.0\">\n",
              "    <tspan class=\"displacy-word\" fill=\"currentColor\" x=\"1450\">good</tspan>\n",
              "    <tspan class=\"displacy-tag\" dy=\"2em\" fill=\"currentColor\" x=\"1450\">ADJ</tspan>\n",
              "</text>\n",
              "\n",
              "<text class=\"displacy-token\" fill=\"currentColor\" text-anchor=\"middle\" y=\"397.0\">\n",
              "    <tspan class=\"displacy-word\" fill=\"currentColor\" x=\"1625\">actor</tspan>\n",
              "    <tspan class=\"displacy-tag\" dy=\"2em\" fill=\"currentColor\" x=\"1625\">NOUN</tspan>\n",
              "</text>\n",
              "\n",
              "<text class=\"displacy-token\" fill=\"currentColor\" text-anchor=\"middle\" y=\"397.0\">\n",
              "    <tspan class=\"displacy-word\" fill=\"currentColor\" x=\"1800\">too.</tspan>\n",
              "    <tspan class=\"displacy-tag\" dy=\"2em\" fill=\"currentColor\" x=\"1800\">ADV</tspan>\n",
              "</text>\n",
              "\n",
              "<text class=\"displacy-token\" fill=\"currentColor\" text-anchor=\"middle\" y=\"397.0\">\n",
              "    <tspan class=\"displacy-word\" fill=\"currentColor\" x=\"1975\">He</tspan>\n",
              "    <tspan class=\"displacy-tag\" dy=\"2em\" fill=\"currentColor\" x=\"1975\">PRON</tspan>\n",
              "</text>\n",
              "\n",
              "<text class=\"displacy-token\" fill=\"currentColor\" text-anchor=\"middle\" y=\"397.0\">\n",
              "    <tspan class=\"displacy-word\" fill=\"currentColor\" x=\"2150\">lives</tspan>\n",
              "    <tspan class=\"displacy-tag\" dy=\"2em\" fill=\"currentColor\" x=\"2150\">VERB</tspan>\n",
              "</text>\n",
              "\n",
              "<text class=\"displacy-token\" fill=\"currentColor\" text-anchor=\"middle\" y=\"397.0\">\n",
              "    <tspan class=\"displacy-word\" fill=\"currentColor\" x=\"2325\">in</tspan>\n",
              "    <tspan class=\"displacy-tag\" dy=\"2em\" fill=\"currentColor\" x=\"2325\">ADP</tspan>\n",
              "</text>\n",
              "\n",
              "<text class=\"displacy-token\" fill=\"currentColor\" text-anchor=\"middle\" y=\"397.0\">\n",
              "    <tspan class=\"displacy-word\" fill=\"currentColor\" x=\"2500\">London.</tspan>\n",
              "    <tspan class=\"displacy-tag\" dy=\"2em\" fill=\"currentColor\" x=\"2500\">PROPN</tspan>\n",
              "</text>\n",
              "\n",
              "<g class=\"displacy-arrow\">\n",
              "    <path class=\"displacy-arc\" id=\"arrow-a55672a204cc40c0a2778b0334892410-0-0\" stroke-width=\"2px\" d=\"M70,352.0 C70,264.5 210.0,264.5 210.0,352.0\" fill=\"none\" stroke=\"currentColor\"/>\n",
              "    <text dy=\"1.25em\" style=\"font-size: 0.8em; letter-spacing: 1px\">\n",
              "        <textPath xlink:href=\"#arrow-a55672a204cc40c0a2778b0334892410-0-0\" class=\"displacy-label\" startOffset=\"50%\" side=\"left\" fill=\"currentColor\" text-anchor=\"middle\">nsubj</textPath>\n",
              "    </text>\n",
              "    <path class=\"displacy-arrowhead\" d=\"M70,354.0 L62,342.0 78,342.0\" fill=\"currentColor\"/>\n",
              "</g>\n",
              "\n",
              "<g class=\"displacy-arrow\">\n",
              "    <path class=\"displacy-arc\" id=\"arrow-a55672a204cc40c0a2778b0334892410-0-1\" stroke-width=\"2px\" d=\"M245,352.0 C245,2.0 1100.0,2.0 1100.0,352.0\" fill=\"none\" stroke=\"currentColor\"/>\n",
              "    <text dy=\"1.25em\" style=\"font-size: 0.8em; letter-spacing: 1px\">\n",
              "        <textPath xlink:href=\"#arrow-a55672a204cc40c0a2778b0334892410-0-1\" class=\"displacy-label\" startOffset=\"50%\" side=\"left\" fill=\"currentColor\" text-anchor=\"middle\">ccomp</textPath>\n",
              "    </text>\n",
              "    <path class=\"displacy-arrowhead\" d=\"M245,354.0 L237,342.0 253,342.0\" fill=\"currentColor\"/>\n",
              "</g>\n",
              "\n",
              "<g class=\"displacy-arrow\">\n",
              "    <path class=\"displacy-arc\" id=\"arrow-a55672a204cc40c0a2778b0334892410-0-2\" stroke-width=\"2px\" d=\"M420,352.0 C420,177.0 740.0,177.0 740.0,352.0\" fill=\"none\" stroke=\"currentColor\"/>\n",
              "    <text dy=\"1.25em\" style=\"font-size: 0.8em; letter-spacing: 1px\">\n",
              "        <textPath xlink:href=\"#arrow-a55672a204cc40c0a2778b0334892410-0-2\" class=\"displacy-label\" startOffset=\"50%\" side=\"left\" fill=\"currentColor\" text-anchor=\"middle\">det</textPath>\n",
              "    </text>\n",
              "    <path class=\"displacy-arrowhead\" d=\"M420,354.0 L412,342.0 428,342.0\" fill=\"currentColor\"/>\n",
              "</g>\n",
              "\n",
              "<g class=\"displacy-arrow\">\n",
              "    <path class=\"displacy-arc\" id=\"arrow-a55672a204cc40c0a2778b0334892410-0-3\" stroke-width=\"2px\" d=\"M595,352.0 C595,264.5 735.0,264.5 735.0,352.0\" fill=\"none\" stroke=\"currentColor\"/>\n",
              "    <text dy=\"1.25em\" style=\"font-size: 0.8em; letter-spacing: 1px\">\n",
              "        <textPath xlink:href=\"#arrow-a55672a204cc40c0a2778b0334892410-0-3\" class=\"displacy-label\" startOffset=\"50%\" side=\"left\" fill=\"currentColor\" text-anchor=\"middle\">amod</textPath>\n",
              "    </text>\n",
              "    <path class=\"displacy-arrowhead\" d=\"M595,354.0 L587,342.0 603,342.0\" fill=\"currentColor\"/>\n",
              "</g>\n",
              "\n",
              "<g class=\"displacy-arrow\">\n",
              "    <path class=\"displacy-arc\" id=\"arrow-a55672a204cc40c0a2778b0334892410-0-4\" stroke-width=\"2px\" d=\"M245,352.0 C245,89.5 745.0,89.5 745.0,352.0\" fill=\"none\" stroke=\"currentColor\"/>\n",
              "    <text dy=\"1.25em\" style=\"font-size: 0.8em; letter-spacing: 1px\">\n",
              "        <textPath xlink:href=\"#arrow-a55672a204cc40c0a2778b0334892410-0-4\" class=\"displacy-label\" startOffset=\"50%\" side=\"left\" fill=\"currentColor\" text-anchor=\"middle\">attr</textPath>\n",
              "    </text>\n",
              "    <path class=\"displacy-arrowhead\" d=\"M745.0,354.0 L753.0,342.0 737.0,342.0\" fill=\"currentColor\"/>\n",
              "</g>\n",
              "\n",
              "<g class=\"displacy-arrow\">\n",
              "    <path class=\"displacy-arc\" id=\"arrow-a55672a204cc40c0a2778b0334892410-0-5\" stroke-width=\"2px\" d=\"M945,352.0 C945,264.5 1085.0,264.5 1085.0,352.0\" fill=\"none\" stroke=\"currentColor\"/>\n",
              "    <text dy=\"1.25em\" style=\"font-size: 0.8em; letter-spacing: 1px\">\n",
              "        <textPath xlink:href=\"#arrow-a55672a204cc40c0a2778b0334892410-0-5\" class=\"displacy-label\" startOffset=\"50%\" side=\"left\" fill=\"currentColor\" text-anchor=\"middle\">nsubj</textPath>\n",
              "    </text>\n",
              "    <path class=\"displacy-arrowhead\" d=\"M945,354.0 L937,342.0 953,342.0\" fill=\"currentColor\"/>\n",
              "</g>\n",
              "\n",
              "<g class=\"displacy-arrow\">\n",
              "    <path class=\"displacy-arc\" id=\"arrow-a55672a204cc40c0a2778b0334892410-0-6\" stroke-width=\"2px\" d=\"M1295,352.0 C1295,177.0 1615.0,177.0 1615.0,352.0\" fill=\"none\" stroke=\"currentColor\"/>\n",
              "    <text dy=\"1.25em\" style=\"font-size: 0.8em; letter-spacing: 1px\">\n",
              "        <textPath xlink:href=\"#arrow-a55672a204cc40c0a2778b0334892410-0-6\" class=\"displacy-label\" startOffset=\"50%\" side=\"left\" fill=\"currentColor\" text-anchor=\"middle\">det</textPath>\n",
              "    </text>\n",
              "    <path class=\"displacy-arrowhead\" d=\"M1295,354.0 L1287,342.0 1303,342.0\" fill=\"currentColor\"/>\n",
              "</g>\n",
              "\n",
              "<g class=\"displacy-arrow\">\n",
              "    <path class=\"displacy-arc\" id=\"arrow-a55672a204cc40c0a2778b0334892410-0-7\" stroke-width=\"2px\" d=\"M1470,352.0 C1470,264.5 1610.0,264.5 1610.0,352.0\" fill=\"none\" stroke=\"currentColor\"/>\n",
              "    <text dy=\"1.25em\" style=\"font-size: 0.8em; letter-spacing: 1px\">\n",
              "        <textPath xlink:href=\"#arrow-a55672a204cc40c0a2778b0334892410-0-7\" class=\"displacy-label\" startOffset=\"50%\" side=\"left\" fill=\"currentColor\" text-anchor=\"middle\">amod</textPath>\n",
              "    </text>\n",
              "    <path class=\"displacy-arrowhead\" d=\"M1470,354.0 L1462,342.0 1478,342.0\" fill=\"currentColor\"/>\n",
              "</g>\n",
              "\n",
              "<g class=\"displacy-arrow\">\n",
              "    <path class=\"displacy-arc\" id=\"arrow-a55672a204cc40c0a2778b0334892410-0-8\" stroke-width=\"2px\" d=\"M1120,352.0 C1120,89.5 1620.0,89.5 1620.0,352.0\" fill=\"none\" stroke=\"currentColor\"/>\n",
              "    <text dy=\"1.25em\" style=\"font-size: 0.8em; letter-spacing: 1px\">\n",
              "        <textPath xlink:href=\"#arrow-a55672a204cc40c0a2778b0334892410-0-8\" class=\"displacy-label\" startOffset=\"50%\" side=\"left\" fill=\"currentColor\" text-anchor=\"middle\">attr</textPath>\n",
              "    </text>\n",
              "    <path class=\"displacy-arrowhead\" d=\"M1620.0,354.0 L1628.0,342.0 1612.0,342.0\" fill=\"currentColor\"/>\n",
              "</g>\n",
              "\n",
              "<g class=\"displacy-arrow\">\n",
              "    <path class=\"displacy-arc\" id=\"arrow-a55672a204cc40c0a2778b0334892410-0-9\" stroke-width=\"2px\" d=\"M1120,352.0 C1120,2.0 1800.0,2.0 1800.0,352.0\" fill=\"none\" stroke=\"currentColor\"/>\n",
              "    <text dy=\"1.25em\" style=\"font-size: 0.8em; letter-spacing: 1px\">\n",
              "        <textPath xlink:href=\"#arrow-a55672a204cc40c0a2778b0334892410-0-9\" class=\"displacy-label\" startOffset=\"50%\" side=\"left\" fill=\"currentColor\" text-anchor=\"middle\">advmod</textPath>\n",
              "    </text>\n",
              "    <path class=\"displacy-arrowhead\" d=\"M1800.0,354.0 L1808.0,342.0 1792.0,342.0\" fill=\"currentColor\"/>\n",
              "</g>\n",
              "\n",
              "<g class=\"displacy-arrow\">\n",
              "    <path class=\"displacy-arc\" id=\"arrow-a55672a204cc40c0a2778b0334892410-0-10\" stroke-width=\"2px\" d=\"M1995,352.0 C1995,264.5 2135.0,264.5 2135.0,352.0\" fill=\"none\" stroke=\"currentColor\"/>\n",
              "    <text dy=\"1.25em\" style=\"font-size: 0.8em; letter-spacing: 1px\">\n",
              "        <textPath xlink:href=\"#arrow-a55672a204cc40c0a2778b0334892410-0-10\" class=\"displacy-label\" startOffset=\"50%\" side=\"left\" fill=\"currentColor\" text-anchor=\"middle\">nsubj</textPath>\n",
              "    </text>\n",
              "    <path class=\"displacy-arrowhead\" d=\"M1995,354.0 L1987,342.0 2003,342.0\" fill=\"currentColor\"/>\n",
              "</g>\n",
              "\n",
              "<g class=\"displacy-arrow\">\n",
              "    <path class=\"displacy-arc\" id=\"arrow-a55672a204cc40c0a2778b0334892410-0-11\" stroke-width=\"2px\" d=\"M2170,352.0 C2170,264.5 2310.0,264.5 2310.0,352.0\" fill=\"none\" stroke=\"currentColor\"/>\n",
              "    <text dy=\"1.25em\" style=\"font-size: 0.8em; letter-spacing: 1px\">\n",
              "        <textPath xlink:href=\"#arrow-a55672a204cc40c0a2778b0334892410-0-11\" class=\"displacy-label\" startOffset=\"50%\" side=\"left\" fill=\"currentColor\" text-anchor=\"middle\">prep</textPath>\n",
              "    </text>\n",
              "    <path class=\"displacy-arrowhead\" d=\"M2310.0,354.0 L2318.0,342.0 2302.0,342.0\" fill=\"currentColor\"/>\n",
              "</g>\n",
              "\n",
              "<g class=\"displacy-arrow\">\n",
              "    <path class=\"displacy-arc\" id=\"arrow-a55672a204cc40c0a2778b0334892410-0-12\" stroke-width=\"2px\" d=\"M2345,352.0 C2345,264.5 2485.0,264.5 2485.0,352.0\" fill=\"none\" stroke=\"currentColor\"/>\n",
              "    <text dy=\"1.25em\" style=\"font-size: 0.8em; letter-spacing: 1px\">\n",
              "        <textPath xlink:href=\"#arrow-a55672a204cc40c0a2778b0334892410-0-12\" class=\"displacy-label\" startOffset=\"50%\" side=\"left\" fill=\"currentColor\" text-anchor=\"middle\">pobj</textPath>\n",
              "    </text>\n",
              "    <path class=\"displacy-arrowhead\" d=\"M2485.0,354.0 L2493.0,342.0 2477.0,342.0\" fill=\"currentColor\"/>\n",
              "</g>\n",
              "</svg></span>"
            ]
          },
          "metadata": {}
        }
      ]
    },
    {
      "cell_type": "code",
      "source": [
        "# NN require Numbers --but NLP is all about TEXT ??"
      ],
      "metadata": {
        "id": "_A4VZurTiWfK"
      },
      "execution_count": null,
      "outputs": []
    },
    {
      "cell_type": "code",
      "source": [
        "# Suggest a way to convert Text to numbers ?"
      ],
      "metadata": {
        "id": "PQkmGE0GkY1V"
      },
      "execution_count": null,
      "outputs": []
    },
    {
      "cell_type": "code",
      "source": [
        "# Dict based mapping ...\n",
        "#  1  2. 3.  4.       5.  6.  2 3\n",
        "# Sam is a wonderful guy, he is a good actor too. He lives in London."
      ],
      "metadata": {
        "id": "GUt4Wuu8krXf"
      },
      "execution_count": null,
      "outputs": []
    },
    {
      "cell_type": "code",
      "source": [
        "# Frequncy -\n",
        "# he - 2\n",
        "#"
      ],
      "metadata": {
        "id": "it2kB-X4lBCP"
      },
      "execution_count": null,
      "outputs": []
    },
    {
      "cell_type": "code",
      "source": [
        "# N-gram\n",
        "# \"What does n-gram means?\"\n",
        "\n",
        "# 1-gram --> \"what\", \"does\", \"n-gram\", 'means?'\n",
        "# 2-gram --> \"what does\", \"does n-gram\", \"n-gram means?\"\n",
        "# 3-gram --> \"what does n-gram\", \"does n-gram means?\""
      ],
      "metadata": {
        "id": "Lds08cU0qsAl"
      },
      "execution_count": null,
      "outputs": []
    },
    {
      "cell_type": "code",
      "source": [
        "# Can we make a model which can generate text?\n"
      ],
      "metadata": {
        "id": "OjIamKJ3qtlX"
      },
      "execution_count": null,
      "outputs": []
    },
    {
      "cell_type": "code",
      "source": [
        "# Word2Vector"
      ],
      "metadata": {
        "id": "-8R347YwlPwa"
      },
      "execution_count": null,
      "outputs": []
    },
    {
      "cell_type": "code",
      "source": [
        "a = nlp(\"Google\")\n",
        "b = nlp(\"Apple\")\n",
        "c = nlp(\"Facebook\")"
      ],
      "metadata": {
        "id": "xF9jdUYlmAYQ"
      },
      "execution_count": null,
      "outputs": []
    },
    {
      "cell_type": "code",
      "source": [
        "a.vector"
      ],
      "metadata": {
        "colab": {
          "base_uri": "https://localhost:8080/"
        },
        "id": "OTOK0UWFmEIQ",
        "outputId": "a3d5f9b7-8dac-4d2d-c642-93154ede0f7b"
      },
      "execution_count": null,
      "outputs": [
        {
          "output_type": "execute_result",
          "data": {
            "text/plain": [
              "array([-1.6791669 , -1.0870782 ,  0.19250968,  0.25911054,  0.6035862 ,\n",
              "       -0.23943791,  0.4230825 ,  1.0905894 , -0.72287023,  0.54199773,\n",
              "        2.0134606 ,  0.5878436 , -1.438591  ,  0.34972262, -0.9885775 ,\n",
              "       -0.22488567, -0.36815703, -0.46108434,  1.0655041 , -0.5766572 ,\n",
              "       -1.5123732 ,  0.0944034 , -0.77869797,  0.3027918 ,  0.5676613 ,\n",
              "       -0.43504488,  1.1920483 ,  2.069745  , -1.0445035 ,  0.5072073 ,\n",
              "       -0.5986357 , -0.2677313 ,  0.55666125,  0.7843174 , -0.5754984 ,\n",
              "       -1.2421182 , -0.0360465 ,  1.4002968 ,  0.38987774,  0.84340775,\n",
              "       -1.8175898 ,  0.09984967, -0.90104455,  0.1442564 , -0.931141  ,\n",
              "       -0.75148654, -0.83200043,  2.6693754 ,  0.47673374,  0.14977697,\n",
              "        0.29660368, -0.31461513,  1.7833931 , -0.2737963 ,  0.21640371,\n",
              "       -0.61993563,  0.31884038, -1.3580458 ,  0.3538408 ,  1.1720878 ,\n",
              "       -0.9922355 , -0.6553284 ,  0.48162243, -0.09145242,  1.8525093 ,\n",
              "        0.41191703,  0.2289168 ,  0.41558364, -0.34144104, -1.6715763 ,\n",
              "       -0.03176923, -0.50995314,  1.3127506 ,  0.06884529,  0.1893157 ,\n",
              "       -0.00792915,  0.49803048, -0.42086333, -0.14312631, -1.477735  ,\n",
              "       -0.27463835,  0.09194161, -0.54663646, -1.3215225 ,  0.40168962,\n",
              "        0.9809966 ,  1.4745597 ,  0.0391379 , -0.52888274,  0.7404101 ,\n",
              "       -0.9102658 , -0.49908575,  3.0042279 , -0.37593699,  0.1441854 ,\n",
              "        0.52195406], dtype=float32)"
            ]
          },
          "metadata": {},
          "execution_count": 20
        }
      ]
    },
    {
      "cell_type": "code",
      "source": [
        "b.vector"
      ],
      "metadata": {
        "colab": {
          "base_uri": "https://localhost:8080/"
        },
        "id": "aVRbgzx9mFAm",
        "outputId": "fc565083-b75a-4f0f-9d5a-90d7945af6aa"
      },
      "execution_count": null,
      "outputs": [
        {
          "output_type": "execute_result",
          "data": {
            "text/plain": [
              "array([-1.2343618e+00, -2.2066161e-01, -1.3394827e+00,  9.2617881e-01,\n",
              "       -1.6458777e-01,  2.0845172e-01,  6.5073305e-01,  3.7095931e-01,\n",
              "       -7.9483503e-01, -5.9541941e-01,  1.3144678e+00, -8.0588520e-01,\n",
              "       -3.3430627e-01,  7.4644768e-01, -6.4305353e-01, -1.8274871e-01,\n",
              "       -1.1063125e+00, -3.7885407e-01,  1.7686224e-01, -5.3272671e-01,\n",
              "       -8.7309712e-01,  6.9363844e-01,  5.5944312e-01, -2.3312125e-01,\n",
              "        2.6052874e-01,  1.7502695e-01,  8.9972937e-01,  1.2830396e+00,\n",
              "       -7.2877765e-01,  6.3959765e-01, -4.4129956e-01, -1.4194009e-01,\n",
              "        6.8932390e-01,  4.6950650e-01, -5.7734179e-01, -1.2287256e+00,\n",
              "        1.2212546e+00, -2.0027488e-01,  1.4388344e+00,  1.1146947e+00,\n",
              "       -6.1585677e-01,  1.1059536e+00, -8.0499786e-01, -1.5372425e-02,\n",
              "       -2.8666100e-01, -6.0369498e-01,  2.0780817e-01,  3.3249247e-01,\n",
              "        1.3695480e-01, -5.5912948e-01,  6.2507582e-01, -7.7239025e-01,\n",
              "        3.7244290e-02, -2.3847607e-01,  4.4491506e-01, -1.6928431e+00,\n",
              "        6.3253683e-01, -9.4693524e-01,  6.3979954e-02,  5.6080180e-01,\n",
              "       -7.7175444e-01, -2.1687746e-03,  2.5245416e-01, -8.6731821e-01,\n",
              "        2.1562021e+00,  1.5533060e-02,  4.7364789e-01, -1.0610368e+00,\n",
              "        5.1755834e-01, -9.3048441e-01, -4.0801486e-01,  1.1840314e-01,\n",
              "        1.9438350e+00, -5.4718822e-01, -4.4986922e-01,  2.1799715e-01,\n",
              "       -2.0536771e-01,  8.6446419e-02,  1.7209461e-01, -6.0764700e-01,\n",
              "       -3.1693959e-01, -5.7123947e-01, -5.7839882e-01, -1.3460747e+00,\n",
              "       -3.6477238e-01,  1.7918825e+00,  6.8929970e-01,  4.2444620e-01,\n",
              "        4.8127609e-01, -2.8799093e-01, -1.0571691e+00, -6.1636770e-01,\n",
              "        2.8925645e+00,  6.0655093e-01,  8.1112444e-01, -2.0827761e-01],\n",
              "      dtype=float32)"
            ]
          },
          "metadata": {},
          "execution_count": 21
        }
      ]
    },
    {
      "cell_type": "code",
      "source": [
        "a.similarity(b)"
      ],
      "metadata": {
        "colab": {
          "base_uri": "https://localhost:8080/"
        },
        "id": "hNu_G2k1nFVN",
        "outputId": "279db305-e57c-4195-e86d-53deda253b22"
      },
      "execution_count": null,
      "outputs": [
        {
          "output_type": "stream",
          "name": "stderr",
          "text": [
            "<ipython-input-22-59d9b9290d16>:1: UserWarning: [W007] The model you're using has no word vectors loaded, so the result of the Doc.similarity method will be based on the tagger, parser and NER, which may not give useful similarity judgements. This may happen if you're using one of the small models, e.g. `en_core_web_sm`, which don't ship with word vectors and only use context-sensitive tensors. You can always add your own word vectors, or use one of the larger models instead if available.\n",
            "  a.similarity(b)\n"
          ]
        },
        {
          "output_type": "execute_result",
          "data": {
            "text/plain": [
              "0.6568804462629225"
            ]
          },
          "metadata": {},
          "execution_count": 22
        }
      ]
    },
    {
      "cell_type": "code",
      "source": [
        "a.similarity(c)"
      ],
      "metadata": {
        "colab": {
          "base_uri": "https://localhost:8080/"
        },
        "id": "uoJQmiHvnQqP",
        "outputId": "a101ae62-b3ce-4bc0-c43a-b28fe31051de"
      },
      "execution_count": null,
      "outputs": [
        {
          "output_type": "stream",
          "name": "stderr",
          "text": [
            "<ipython-input-24-a6adfd5296f5>:1: UserWarning: [W007] The model you're using has no word vectors loaded, so the result of the Doc.similarity method will be based on the tagger, parser and NER, which may not give useful similarity judgements. This may happen if you're using one of the small models, e.g. `en_core_web_sm`, which don't ship with word vectors and only use context-sensitive tensors. You can always add your own word vectors, or use one of the larger models instead if available.\n",
            "  a.similarity(c)\n"
          ]
        },
        {
          "output_type": "execute_result",
          "data": {
            "text/plain": [
              "0.7316495238905276"
            ]
          },
          "metadata": {},
          "execution_count": 24
        }
      ]
    },
    {
      "cell_type": "code",
      "source": [
        "nlp(\"Sam is a very good person\").similarity(nlp(\"Sam is also a hardworking student\"))"
      ],
      "metadata": {
        "colab": {
          "base_uri": "https://localhost:8080/"
        },
        "id": "daELdFBgnZ8W",
        "outputId": "c18b7ec8-bbce-416f-ff6a-98fc69eb8404"
      },
      "execution_count": null,
      "outputs": [
        {
          "output_type": "stream",
          "name": "stderr",
          "text": [
            "<ipython-input-31-0d47ea412574>:1: UserWarning: [W007] The model you're using has no word vectors loaded, so the result of the Doc.similarity method will be based on the tagger, parser and NER, which may not give useful similarity judgements. This may happen if you're using one of the small models, e.g. `en_core_web_sm`, which don't ship with word vectors and only use context-sensitive tensors. You can always add your own word vectors, or use one of the larger models instead if available.\n",
            "  nlp(\"Sam is a very good person\").similarity(nlp(\"Sam is also a hardworking student\"))\n"
          ]
        },
        {
          "output_type": "execute_result",
          "data": {
            "text/plain": [
              "0.6984014569396555"
            ]
          },
          "metadata": {},
          "execution_count": 31
        }
      ]
    },
    {
      "cell_type": "code",
      "source": [
        "# Sent1 Vs Sent2"
      ],
      "metadata": {
        "id": "McQvWOtpoRZi"
      },
      "execution_count": null,
      "outputs": []
    },
    {
      "cell_type": "code",
      "source": [
        "spacy.cli.download(\"en_core_web_lg\")"
      ],
      "metadata": {
        "colab": {
          "base_uri": "https://localhost:8080/"
        },
        "id": "6bvJn4hJpr9g",
        "outputId": "ab16e76a-7823-47e4-f015-fed077bc6734"
      },
      "execution_count": null,
      "outputs": [
        {
          "output_type": "stream",
          "name": "stdout",
          "text": [
            "\u001b[38;5;2m✔ Download and installation successful\u001b[0m\n",
            "You can now load the package via spacy.load('en_core_web_lg')\n"
          ]
        }
      ]
    },
    {
      "cell_type": "code",
      "source": [
        "nlp2 = spacy.load(\"en_core_web_lg\")"
      ],
      "metadata": {
        "id": "Do8r-duepv-1"
      },
      "execution_count": null,
      "outputs": []
    },
    {
      "cell_type": "code",
      "source": [
        "nlp2(\"Google is a very good company\").similarity(nlp2(\"Google is awesome\"))"
      ],
      "metadata": {
        "colab": {
          "base_uri": "https://localhost:8080/"
        },
        "id": "1nQ5R2vOpFLv",
        "outputId": "4f1dc368-a7ab-4ffb-e146-4ddd8e46c40d"
      },
      "execution_count": null,
      "outputs": [
        {
          "output_type": "execute_result",
          "data": {
            "text/plain": [
              "0.7796644039253983"
            ]
          },
          "metadata": {},
          "execution_count": 30
        }
      ]
    },
    {
      "cell_type": "code",
      "source": [
        "nlp2(\"Google\").vector.shape"
      ],
      "metadata": {
        "colab": {
          "base_uri": "https://localhost:8080/"
        },
        "id": "bGdE8eN_pjAa",
        "outputId": "346e82fa-db14-430e-fb64-cdf8e5f91969"
      },
      "execution_count": null,
      "outputs": [
        {
          "output_type": "execute_result",
          "data": {
            "text/plain": [
              "(300,)"
            ]
          },
          "metadata": {},
          "execution_count": 35
        }
      ]
    },
    {
      "cell_type": "code",
      "source": [
        "# RNN Recurrent Neural Networks -\n",
        "# Sam is a student in MIT, currently studing aeronautical sciences and he is also interning with NASA\n",
        "\n",
        "\n",
        "# a) It learns everything, even not required info\n",
        "# b) because it learn everything, it looses information of early stages"
      ],
      "metadata": {
        "id": "xoh1yZwEqoYp"
      },
      "execution_count": null,
      "outputs": []
    },
    {
      "cell_type": "code",
      "source": [
        "# LSTM Long Short Term Memory\n"
      ],
      "metadata": {
        "id": "ijLGuSy5wIT0"
      },
      "execution_count": null,
      "outputs": []
    },
    {
      "cell_type": "code",
      "source": [
        "# Download Sentiment Data\n",
        "# https://drive.google.com/file/d/16wOmTKHmz9ySye2JDoY0yfpIdKIvTkb9/view?usp=sharing"
      ],
      "metadata": {
        "id": "y8nP0xT3wNJV"
      },
      "execution_count": null,
      "outputs": []
    },
    {
      "cell_type": "code",
      "source": [
        "import pandas as pd\n",
        "import numpy as np\n",
        "import matplotlib.pyplot as plt\n",
        "import seaborn as sns"
      ],
      "metadata": {
        "id": "7XnOu3hvzMxf"
      },
      "execution_count": null,
      "outputs": []
    },
    {
      "cell_type": "code",
      "source": [
        "df = pd.read_csv(\"Sentiment.csv\")"
      ],
      "metadata": {
        "id": "ArbXYOKgzkgu"
      },
      "execution_count": null,
      "outputs": []
    },
    {
      "cell_type": "code",
      "source": [
        "df.sample(5)"
      ],
      "metadata": {
        "colab": {
          "base_uri": "https://localhost:8080/",
          "height": 646
        },
        "id": "rLsp9GB-zrR7",
        "outputId": "a239647c-5f35-48d8-e8e3-d880103a64b1"
      },
      "execution_count": null,
      "outputs": [
        {
          "output_type": "execute_result",
          "data": {
            "text/plain": [
              "          id               candidate  candidate_confidence relevant_yn  \\\n",
              "12058  12059  No candidate mentioned                1.0000         yes   \n",
              "851      852            Scott Walker                0.4344         yes   \n",
              "7186    7187             Marco Rubio                1.0000         yes   \n",
              "8776    8777  No candidate mentioned                1.0000         yes   \n",
              "11308  11309            Donald Trump                1.0000         yes   \n",
              "\n",
              "       relevant_yn_confidence sentiment  sentiment_confidence  \\\n",
              "12058                  1.0000  Negative                0.6474   \n",
              "851                    0.6591  Negative                0.6591   \n",
              "7186                   1.0000  Positive                1.0000   \n",
              "8776                   1.0000  Negative                1.0000   \n",
              "11308                  1.0000  Negative                0.3635   \n",
              "\n",
              "               subject_matter  subject_matter_confidence candidate_gold  ...  \\\n",
              "12058  FOX News or Moderators                     1.0000            NaN  ...   \n",
              "851                       NaN                     0.2247            NaN  ...   \n",
              "7186        None of the above                     1.0000            NaN  ...   \n",
              "8776   FOX News or Moderators                     1.0000            NaN  ...   \n",
              "11308  FOX News or Moderators                     1.0000            NaN  ...   \n",
              "\n",
              "      relevant_yn_gold retweet_count  sentiment_gold subject_matter_gold  \\\n",
              "12058              NaN           120             NaN                 NaN   \n",
              "851                NaN            38             NaN                 NaN   \n",
              "7186               NaN            23             NaN                 NaN   \n",
              "8776               NaN           116             NaN                 NaN   \n",
              "11308              NaN            78             NaN                 NaN   \n",
              "\n",
              "                                                    text tweet_coord  \\\n",
              "12058  RT @RWSurferGirl: Why doesn't Chris Wallace as...         NaN   \n",
              "851    RT @theblaze: Pundits incensed over @megynkell...         NaN   \n",
              "7186   RT @youngrepub_: Rubio is my man right now. So...         NaN   \n",
              "8776   RT @RWSurferGirl: So @megynkelly posed for adu...         NaN   \n",
              "11308  RT @RWSurferGirl: Ask Trump a legitimate quest...         NaN   \n",
              "\n",
              "                   tweet_created            tweet_id         tweet_location  \\\n",
              "12058  2015-08-06 19:26:43 -0700  629478746718777349                    NaN   \n",
              "851    2015-08-07 09:47:36 -0700  629695395065561088                    NaN   \n",
              "7186   2015-08-07 08:09:08 -0700  629670615658725376  Skipperville, Alabama   \n",
              "8776   2015-08-06 22:19:51 -0700  629522319258611712                    NaN   \n",
              "11308  2015-08-06 19:39:19 -0700  629481920322146305   mary@maryneilson.com   \n",
              "\n",
              "                    user_timezone  \n",
              "12058                         NaN  \n",
              "851                           NaN  \n",
              "7186   Central Time (US & Canada)  \n",
              "8776                          NaN  \n",
              "11308  Eastern Time (US & Canada)  \n",
              "\n",
              "[5 rows x 21 columns]"
            ],
            "text/html": [
              "\n",
              "  <div id=\"df-4dfb733a-98f9-4e62-8381-5de7c8ecfe5f\">\n",
              "    <div class=\"colab-df-container\">\n",
              "      <div>\n",
              "<style scoped>\n",
              "    .dataframe tbody tr th:only-of-type {\n",
              "        vertical-align: middle;\n",
              "    }\n",
              "\n",
              "    .dataframe tbody tr th {\n",
              "        vertical-align: top;\n",
              "    }\n",
              "\n",
              "    .dataframe thead th {\n",
              "        text-align: right;\n",
              "    }\n",
              "</style>\n",
              "<table border=\"1\" class=\"dataframe\">\n",
              "  <thead>\n",
              "    <tr style=\"text-align: right;\">\n",
              "      <th></th>\n",
              "      <th>id</th>\n",
              "      <th>candidate</th>\n",
              "      <th>candidate_confidence</th>\n",
              "      <th>relevant_yn</th>\n",
              "      <th>relevant_yn_confidence</th>\n",
              "      <th>sentiment</th>\n",
              "      <th>sentiment_confidence</th>\n",
              "      <th>subject_matter</th>\n",
              "      <th>subject_matter_confidence</th>\n",
              "      <th>candidate_gold</th>\n",
              "      <th>...</th>\n",
              "      <th>relevant_yn_gold</th>\n",
              "      <th>retweet_count</th>\n",
              "      <th>sentiment_gold</th>\n",
              "      <th>subject_matter_gold</th>\n",
              "      <th>text</th>\n",
              "      <th>tweet_coord</th>\n",
              "      <th>tweet_created</th>\n",
              "      <th>tweet_id</th>\n",
              "      <th>tweet_location</th>\n",
              "      <th>user_timezone</th>\n",
              "    </tr>\n",
              "  </thead>\n",
              "  <tbody>\n",
              "    <tr>\n",
              "      <th>12058</th>\n",
              "      <td>12059</td>\n",
              "      <td>No candidate mentioned</td>\n",
              "      <td>1.0000</td>\n",
              "      <td>yes</td>\n",
              "      <td>1.0000</td>\n",
              "      <td>Negative</td>\n",
              "      <td>0.6474</td>\n",
              "      <td>FOX News or Moderators</td>\n",
              "      <td>1.0000</td>\n",
              "      <td>NaN</td>\n",
              "      <td>...</td>\n",
              "      <td>NaN</td>\n",
              "      <td>120</td>\n",
              "      <td>NaN</td>\n",
              "      <td>NaN</td>\n",
              "      <td>RT @RWSurferGirl: Why doesn't Chris Wallace as...</td>\n",
              "      <td>NaN</td>\n",
              "      <td>2015-08-06 19:26:43 -0700</td>\n",
              "      <td>629478746718777349</td>\n",
              "      <td>NaN</td>\n",
              "      <td>NaN</td>\n",
              "    </tr>\n",
              "    <tr>\n",
              "      <th>851</th>\n",
              "      <td>852</td>\n",
              "      <td>Scott Walker</td>\n",
              "      <td>0.4344</td>\n",
              "      <td>yes</td>\n",
              "      <td>0.6591</td>\n",
              "      <td>Negative</td>\n",
              "      <td>0.6591</td>\n",
              "      <td>NaN</td>\n",
              "      <td>0.2247</td>\n",
              "      <td>NaN</td>\n",
              "      <td>...</td>\n",
              "      <td>NaN</td>\n",
              "      <td>38</td>\n",
              "      <td>NaN</td>\n",
              "      <td>NaN</td>\n",
              "      <td>RT @theblaze: Pundits incensed over @megynkell...</td>\n",
              "      <td>NaN</td>\n",
              "      <td>2015-08-07 09:47:36 -0700</td>\n",
              "      <td>629695395065561088</td>\n",
              "      <td>NaN</td>\n",
              "      <td>NaN</td>\n",
              "    </tr>\n",
              "    <tr>\n",
              "      <th>7186</th>\n",
              "      <td>7187</td>\n",
              "      <td>Marco Rubio</td>\n",
              "      <td>1.0000</td>\n",
              "      <td>yes</td>\n",
              "      <td>1.0000</td>\n",
              "      <td>Positive</td>\n",
              "      <td>1.0000</td>\n",
              "      <td>None of the above</td>\n",
              "      <td>1.0000</td>\n",
              "      <td>NaN</td>\n",
              "      <td>...</td>\n",
              "      <td>NaN</td>\n",
              "      <td>23</td>\n",
              "      <td>NaN</td>\n",
              "      <td>NaN</td>\n",
              "      <td>RT @youngrepub_: Rubio is my man right now. So...</td>\n",
              "      <td>NaN</td>\n",
              "      <td>2015-08-07 08:09:08 -0700</td>\n",
              "      <td>629670615658725376</td>\n",
              "      <td>Skipperville, Alabama</td>\n",
              "      <td>Central Time (US &amp; Canada)</td>\n",
              "    </tr>\n",
              "    <tr>\n",
              "      <th>8776</th>\n",
              "      <td>8777</td>\n",
              "      <td>No candidate mentioned</td>\n",
              "      <td>1.0000</td>\n",
              "      <td>yes</td>\n",
              "      <td>1.0000</td>\n",
              "      <td>Negative</td>\n",
              "      <td>1.0000</td>\n",
              "      <td>FOX News or Moderators</td>\n",
              "      <td>1.0000</td>\n",
              "      <td>NaN</td>\n",
              "      <td>...</td>\n",
              "      <td>NaN</td>\n",
              "      <td>116</td>\n",
              "      <td>NaN</td>\n",
              "      <td>NaN</td>\n",
              "      <td>RT @RWSurferGirl: So @megynkelly posed for adu...</td>\n",
              "      <td>NaN</td>\n",
              "      <td>2015-08-06 22:19:51 -0700</td>\n",
              "      <td>629522319258611712</td>\n",
              "      <td>NaN</td>\n",
              "      <td>NaN</td>\n",
              "    </tr>\n",
              "    <tr>\n",
              "      <th>11308</th>\n",
              "      <td>11309</td>\n",
              "      <td>Donald Trump</td>\n",
              "      <td>1.0000</td>\n",
              "      <td>yes</td>\n",
              "      <td>1.0000</td>\n",
              "      <td>Negative</td>\n",
              "      <td>0.3635</td>\n",
              "      <td>FOX News or Moderators</td>\n",
              "      <td>1.0000</td>\n",
              "      <td>NaN</td>\n",
              "      <td>...</td>\n",
              "      <td>NaN</td>\n",
              "      <td>78</td>\n",
              "      <td>NaN</td>\n",
              "      <td>NaN</td>\n",
              "      <td>RT @RWSurferGirl: Ask Trump a legitimate quest...</td>\n",
              "      <td>NaN</td>\n",
              "      <td>2015-08-06 19:39:19 -0700</td>\n",
              "      <td>629481920322146305</td>\n",
              "      <td>mary@maryneilson.com</td>\n",
              "      <td>Eastern Time (US &amp; Canada)</td>\n",
              "    </tr>\n",
              "  </tbody>\n",
              "</table>\n",
              "<p>5 rows × 21 columns</p>\n",
              "</div>\n",
              "      <button class=\"colab-df-convert\" onclick=\"convertToInteractive('df-4dfb733a-98f9-4e62-8381-5de7c8ecfe5f')\"\n",
              "              title=\"Convert this dataframe to an interactive table.\"\n",
              "              style=\"display:none;\">\n",
              "        \n",
              "  <svg xmlns=\"http://www.w3.org/2000/svg\" height=\"24px\"viewBox=\"0 0 24 24\"\n",
              "       width=\"24px\">\n",
              "    <path d=\"M0 0h24v24H0V0z\" fill=\"none\"/>\n",
              "    <path d=\"M18.56 5.44l.94 2.06.94-2.06 2.06-.94-2.06-.94-.94-2.06-.94 2.06-2.06.94zm-11 1L8.5 8.5l.94-2.06 2.06-.94-2.06-.94L8.5 2.5l-.94 2.06-2.06.94zm10 10l.94 2.06.94-2.06 2.06-.94-2.06-.94-.94-2.06-.94 2.06-2.06.94z\"/><path d=\"M17.41 7.96l-1.37-1.37c-.4-.4-.92-.59-1.43-.59-.52 0-1.04.2-1.43.59L10.3 9.45l-7.72 7.72c-.78.78-.78 2.05 0 2.83L4 21.41c.39.39.9.59 1.41.59.51 0 1.02-.2 1.41-.59l7.78-7.78 2.81-2.81c.8-.78.8-2.07 0-2.86zM5.41 20L4 18.59l7.72-7.72 1.47 1.35L5.41 20z\"/>\n",
              "  </svg>\n",
              "      </button>\n",
              "      \n",
              "  <style>\n",
              "    .colab-df-container {\n",
              "      display:flex;\n",
              "      flex-wrap:wrap;\n",
              "      gap: 12px;\n",
              "    }\n",
              "\n",
              "    .colab-df-convert {\n",
              "      background-color: #E8F0FE;\n",
              "      border: none;\n",
              "      border-radius: 50%;\n",
              "      cursor: pointer;\n",
              "      display: none;\n",
              "      fill: #1967D2;\n",
              "      height: 32px;\n",
              "      padding: 0 0 0 0;\n",
              "      width: 32px;\n",
              "    }\n",
              "\n",
              "    .colab-df-convert:hover {\n",
              "      background-color: #E2EBFA;\n",
              "      box-shadow: 0px 1px 2px rgba(60, 64, 67, 0.3), 0px 1px 3px 1px rgba(60, 64, 67, 0.15);\n",
              "      fill: #174EA6;\n",
              "    }\n",
              "\n",
              "    [theme=dark] .colab-df-convert {\n",
              "      background-color: #3B4455;\n",
              "      fill: #D2E3FC;\n",
              "    }\n",
              "\n",
              "    [theme=dark] .colab-df-convert:hover {\n",
              "      background-color: #434B5C;\n",
              "      box-shadow: 0px 1px 3px 1px rgba(0, 0, 0, 0.15);\n",
              "      filter: drop-shadow(0px 1px 2px rgba(0, 0, 0, 0.3));\n",
              "      fill: #FFFFFF;\n",
              "    }\n",
              "  </style>\n",
              "\n",
              "      <script>\n",
              "        const buttonEl =\n",
              "          document.querySelector('#df-4dfb733a-98f9-4e62-8381-5de7c8ecfe5f button.colab-df-convert');\n",
              "        buttonEl.style.display =\n",
              "          google.colab.kernel.accessAllowed ? 'block' : 'none';\n",
              "\n",
              "        async function convertToInteractive(key) {\n",
              "          const element = document.querySelector('#df-4dfb733a-98f9-4e62-8381-5de7c8ecfe5f');\n",
              "          const dataTable =\n",
              "            await google.colab.kernel.invokeFunction('convertToInteractive',\n",
              "                                                     [key], {});\n",
              "          if (!dataTable) return;\n",
              "\n",
              "          const docLinkHtml = 'Like what you see? Visit the ' +\n",
              "            '<a target=\"_blank\" href=https://colab.research.google.com/notebooks/data_table.ipynb>data table notebook</a>'\n",
              "            + ' to learn more about interactive tables.';\n",
              "          element.innerHTML = '';\n",
              "          dataTable['output_type'] = 'display_data';\n",
              "          await google.colab.output.renderOutput(dataTable, element);\n",
              "          const docLink = document.createElement('div');\n",
              "          docLink.innerHTML = docLinkHtml;\n",
              "          element.appendChild(docLink);\n",
              "        }\n",
              "      </script>\n",
              "    </div>\n",
              "  </div>\n",
              "  "
            ]
          },
          "metadata": {},
          "execution_count": 39
        }
      ]
    },
    {
      "cell_type": "code",
      "source": [
        "df = df.loc[:, [\"candidate\", 'text', 'sentiment']]"
      ],
      "metadata": {
        "id": "0t9uWpdpzs4Y"
      },
      "execution_count": null,
      "outputs": []
    },
    {
      "cell_type": "code",
      "source": [
        "df.sample(5)"
      ],
      "metadata": {
        "colab": {
          "base_uri": "https://localhost:8080/",
          "height": 206
        },
        "id": "vusSxfSe0Bds",
        "outputId": "d750ec50-1d2e-448a-fb38-fc2701d19dac"
      },
      "execution_count": null,
      "outputs": [
        {
          "output_type": "execute_result",
          "data": {
            "text/plain": [
              "                   candidate  \\\n",
              "9597  No candidate mentioned   \n",
              "1800            Donald Trump   \n",
              "7116            Donald Trump   \n",
              "1366                Jeb Bush   \n",
              "6883  No candidate mentioned   \n",
              "\n",
              "                                                   text sentiment  \n",
              "9597  RT @lynn_mistie: Lol, fun! Aghhh I'm pumped! T...  Positive  \n",
              "1800  Rush Limbaugh seems to think #FoxNews did a hi...  Negative  \n",
              "7116  RT @BradWalsh: I will 100% vote for Donald Tru...  Positive  \n",
              "1366  More #GOPDebate s pleeeease.  @FoxNews But no ...  Negative  \n",
              "6883  He loaded LOL #tcot #GOPDebate #kushandalcohol...   Neutral  "
            ],
            "text/html": [
              "\n",
              "  <div id=\"df-47de6f79-5423-4fe7-b5b5-c97d8059e60d\">\n",
              "    <div class=\"colab-df-container\">\n",
              "      <div>\n",
              "<style scoped>\n",
              "    .dataframe tbody tr th:only-of-type {\n",
              "        vertical-align: middle;\n",
              "    }\n",
              "\n",
              "    .dataframe tbody tr th {\n",
              "        vertical-align: top;\n",
              "    }\n",
              "\n",
              "    .dataframe thead th {\n",
              "        text-align: right;\n",
              "    }\n",
              "</style>\n",
              "<table border=\"1\" class=\"dataframe\">\n",
              "  <thead>\n",
              "    <tr style=\"text-align: right;\">\n",
              "      <th></th>\n",
              "      <th>candidate</th>\n",
              "      <th>text</th>\n",
              "      <th>sentiment</th>\n",
              "    </tr>\n",
              "  </thead>\n",
              "  <tbody>\n",
              "    <tr>\n",
              "      <th>9597</th>\n",
              "      <td>No candidate mentioned</td>\n",
              "      <td>RT @lynn_mistie: Lol, fun! Aghhh I'm pumped! T...</td>\n",
              "      <td>Positive</td>\n",
              "    </tr>\n",
              "    <tr>\n",
              "      <th>1800</th>\n",
              "      <td>Donald Trump</td>\n",
              "      <td>Rush Limbaugh seems to think #FoxNews did a hi...</td>\n",
              "      <td>Negative</td>\n",
              "    </tr>\n",
              "    <tr>\n",
              "      <th>7116</th>\n",
              "      <td>Donald Trump</td>\n",
              "      <td>RT @BradWalsh: I will 100% vote for Donald Tru...</td>\n",
              "      <td>Positive</td>\n",
              "    </tr>\n",
              "    <tr>\n",
              "      <th>1366</th>\n",
              "      <td>Jeb Bush</td>\n",
              "      <td>More #GOPDebate s pleeeease.  @FoxNews But no ...</td>\n",
              "      <td>Negative</td>\n",
              "    </tr>\n",
              "    <tr>\n",
              "      <th>6883</th>\n",
              "      <td>No candidate mentioned</td>\n",
              "      <td>He loaded LOL #tcot #GOPDebate #kushandalcohol...</td>\n",
              "      <td>Neutral</td>\n",
              "    </tr>\n",
              "  </tbody>\n",
              "</table>\n",
              "</div>\n",
              "      <button class=\"colab-df-convert\" onclick=\"convertToInteractive('df-47de6f79-5423-4fe7-b5b5-c97d8059e60d')\"\n",
              "              title=\"Convert this dataframe to an interactive table.\"\n",
              "              style=\"display:none;\">\n",
              "        \n",
              "  <svg xmlns=\"http://www.w3.org/2000/svg\" height=\"24px\"viewBox=\"0 0 24 24\"\n",
              "       width=\"24px\">\n",
              "    <path d=\"M0 0h24v24H0V0z\" fill=\"none\"/>\n",
              "    <path d=\"M18.56 5.44l.94 2.06.94-2.06 2.06-.94-2.06-.94-.94-2.06-.94 2.06-2.06.94zm-11 1L8.5 8.5l.94-2.06 2.06-.94-2.06-.94L8.5 2.5l-.94 2.06-2.06.94zm10 10l.94 2.06.94-2.06 2.06-.94-2.06-.94-.94-2.06-.94 2.06-2.06.94z\"/><path d=\"M17.41 7.96l-1.37-1.37c-.4-.4-.92-.59-1.43-.59-.52 0-1.04.2-1.43.59L10.3 9.45l-7.72 7.72c-.78.78-.78 2.05 0 2.83L4 21.41c.39.39.9.59 1.41.59.51 0 1.02-.2 1.41-.59l7.78-7.78 2.81-2.81c.8-.78.8-2.07 0-2.86zM5.41 20L4 18.59l7.72-7.72 1.47 1.35L5.41 20z\"/>\n",
              "  </svg>\n",
              "      </button>\n",
              "      \n",
              "  <style>\n",
              "    .colab-df-container {\n",
              "      display:flex;\n",
              "      flex-wrap:wrap;\n",
              "      gap: 12px;\n",
              "    }\n",
              "\n",
              "    .colab-df-convert {\n",
              "      background-color: #E8F0FE;\n",
              "      border: none;\n",
              "      border-radius: 50%;\n",
              "      cursor: pointer;\n",
              "      display: none;\n",
              "      fill: #1967D2;\n",
              "      height: 32px;\n",
              "      padding: 0 0 0 0;\n",
              "      width: 32px;\n",
              "    }\n",
              "\n",
              "    .colab-df-convert:hover {\n",
              "      background-color: #E2EBFA;\n",
              "      box-shadow: 0px 1px 2px rgba(60, 64, 67, 0.3), 0px 1px 3px 1px rgba(60, 64, 67, 0.15);\n",
              "      fill: #174EA6;\n",
              "    }\n",
              "\n",
              "    [theme=dark] .colab-df-convert {\n",
              "      background-color: #3B4455;\n",
              "      fill: #D2E3FC;\n",
              "    }\n",
              "\n",
              "    [theme=dark] .colab-df-convert:hover {\n",
              "      background-color: #434B5C;\n",
              "      box-shadow: 0px 1px 3px 1px rgba(0, 0, 0, 0.15);\n",
              "      filter: drop-shadow(0px 1px 2px rgba(0, 0, 0, 0.3));\n",
              "      fill: #FFFFFF;\n",
              "    }\n",
              "  </style>\n",
              "\n",
              "      <script>\n",
              "        const buttonEl =\n",
              "          document.querySelector('#df-47de6f79-5423-4fe7-b5b5-c97d8059e60d button.colab-df-convert');\n",
              "        buttonEl.style.display =\n",
              "          google.colab.kernel.accessAllowed ? 'block' : 'none';\n",
              "\n",
              "        async function convertToInteractive(key) {\n",
              "          const element = document.querySelector('#df-47de6f79-5423-4fe7-b5b5-c97d8059e60d');\n",
              "          const dataTable =\n",
              "            await google.colab.kernel.invokeFunction('convertToInteractive',\n",
              "                                                     [key], {});\n",
              "          if (!dataTable) return;\n",
              "\n",
              "          const docLinkHtml = 'Like what you see? Visit the ' +\n",
              "            '<a target=\"_blank\" href=https://colab.research.google.com/notebooks/data_table.ipynb>data table notebook</a>'\n",
              "            + ' to learn more about interactive tables.';\n",
              "          element.innerHTML = '';\n",
              "          dataTable['output_type'] = 'display_data';\n",
              "          await google.colab.output.renderOutput(dataTable, element);\n",
              "          const docLink = document.createElement('div');\n",
              "          docLink.innerHTML = docLinkHtml;\n",
              "          element.appendChild(docLink);\n",
              "        }\n",
              "      </script>\n",
              "    </div>\n",
              "  </div>\n",
              "  "
            ]
          },
          "metadata": {},
          "execution_count": 42
        }
      ]
    },
    {
      "cell_type": "code",
      "source": [
        "df.sentiment.value_counts()"
      ],
      "metadata": {
        "colab": {
          "base_uri": "https://localhost:8080/"
        },
        "id": "TUZwmDdQ0FBj",
        "outputId": "30e1b6c4-b7f4-44ce-cdbb-1a4f12d1f97a"
      },
      "execution_count": null,
      "outputs": [
        {
          "output_type": "execute_result",
          "data": {
            "text/plain": [
              "Negative    8493\n",
              "Neutral     3142\n",
              "Positive    2236\n",
              "Name: sentiment, dtype: int64"
            ]
          },
          "metadata": {},
          "execution_count": 43
        }
      ]
    },
    {
      "cell_type": "code",
      "source": [
        "df.candidate.value_counts()"
      ],
      "metadata": {
        "colab": {
          "base_uri": "https://localhost:8080/"
        },
        "id": "iROVUedY0IHl",
        "outputId": "a2ac291e-d18e-400c-cf4f-013ef263b8de"
      },
      "execution_count": null,
      "outputs": [
        {
          "output_type": "execute_result",
          "data": {
            "text/plain": [
              "No candidate mentioned    7491\n",
              "Donald Trump              2813\n",
              "Jeb Bush                   705\n",
              "Ted Cruz                   637\n",
              "Ben Carson                 404\n",
              "Mike Huckabee              393\n",
              "Chris Christie             293\n",
              "Marco Rubio                275\n",
              "Rand Paul                  263\n",
              "Scott Walker               259\n",
              "John Kasich                242\n",
              "Name: candidate, dtype: int64"
            ]
          },
          "metadata": {},
          "execution_count": 44
        }
      ]
    },
    {
      "cell_type": "code",
      "source": [
        "pd.crosstab(df.candidate, df.sentiment)"
      ],
      "metadata": {
        "colab": {
          "base_uri": "https://localhost:8080/",
          "height": 425
        },
        "id": "-OMwEI6O0VeQ",
        "outputId": "2b7cbadc-3989-43e6-81aa-2ce34eb20921"
      },
      "execution_count": null,
      "outputs": [
        {
          "output_type": "execute_result",
          "data": {
            "text/plain": [
              "sentiment               Negative  Neutral  Positive\n",
              "candidate                                          \n",
              "Ben Carson                   186       54       164\n",
              "Chris Christie               218       42        33\n",
              "Donald Trump                1758      446       609\n",
              "Jeb Bush                     589       72        44\n",
              "John Kasich                   82       47       113\n",
              "Marco Rubio                  105       51       119\n",
              "Mike Huckabee                237       83        73\n",
              "No candidate mentioned      4724     2087       680\n",
              "Rand Paul                    148       60        55\n",
              "Scott Walker                 179       38        42\n",
              "Ted Cruz                     221      126       290"
            ],
            "text/html": [
              "\n",
              "  <div id=\"df-1f9080b4-3061-4800-8092-2be0395ea4a6\">\n",
              "    <div class=\"colab-df-container\">\n",
              "      <div>\n",
              "<style scoped>\n",
              "    .dataframe tbody tr th:only-of-type {\n",
              "        vertical-align: middle;\n",
              "    }\n",
              "\n",
              "    .dataframe tbody tr th {\n",
              "        vertical-align: top;\n",
              "    }\n",
              "\n",
              "    .dataframe thead th {\n",
              "        text-align: right;\n",
              "    }\n",
              "</style>\n",
              "<table border=\"1\" class=\"dataframe\">\n",
              "  <thead>\n",
              "    <tr style=\"text-align: right;\">\n",
              "      <th>sentiment</th>\n",
              "      <th>Negative</th>\n",
              "      <th>Neutral</th>\n",
              "      <th>Positive</th>\n",
              "    </tr>\n",
              "    <tr>\n",
              "      <th>candidate</th>\n",
              "      <th></th>\n",
              "      <th></th>\n",
              "      <th></th>\n",
              "    </tr>\n",
              "  </thead>\n",
              "  <tbody>\n",
              "    <tr>\n",
              "      <th>Ben Carson</th>\n",
              "      <td>186</td>\n",
              "      <td>54</td>\n",
              "      <td>164</td>\n",
              "    </tr>\n",
              "    <tr>\n",
              "      <th>Chris Christie</th>\n",
              "      <td>218</td>\n",
              "      <td>42</td>\n",
              "      <td>33</td>\n",
              "    </tr>\n",
              "    <tr>\n",
              "      <th>Donald Trump</th>\n",
              "      <td>1758</td>\n",
              "      <td>446</td>\n",
              "      <td>609</td>\n",
              "    </tr>\n",
              "    <tr>\n",
              "      <th>Jeb Bush</th>\n",
              "      <td>589</td>\n",
              "      <td>72</td>\n",
              "      <td>44</td>\n",
              "    </tr>\n",
              "    <tr>\n",
              "      <th>John Kasich</th>\n",
              "      <td>82</td>\n",
              "      <td>47</td>\n",
              "      <td>113</td>\n",
              "    </tr>\n",
              "    <tr>\n",
              "      <th>Marco Rubio</th>\n",
              "      <td>105</td>\n",
              "      <td>51</td>\n",
              "      <td>119</td>\n",
              "    </tr>\n",
              "    <tr>\n",
              "      <th>Mike Huckabee</th>\n",
              "      <td>237</td>\n",
              "      <td>83</td>\n",
              "      <td>73</td>\n",
              "    </tr>\n",
              "    <tr>\n",
              "      <th>No candidate mentioned</th>\n",
              "      <td>4724</td>\n",
              "      <td>2087</td>\n",
              "      <td>680</td>\n",
              "    </tr>\n",
              "    <tr>\n",
              "      <th>Rand Paul</th>\n",
              "      <td>148</td>\n",
              "      <td>60</td>\n",
              "      <td>55</td>\n",
              "    </tr>\n",
              "    <tr>\n",
              "      <th>Scott Walker</th>\n",
              "      <td>179</td>\n",
              "      <td>38</td>\n",
              "      <td>42</td>\n",
              "    </tr>\n",
              "    <tr>\n",
              "      <th>Ted Cruz</th>\n",
              "      <td>221</td>\n",
              "      <td>126</td>\n",
              "      <td>290</td>\n",
              "    </tr>\n",
              "  </tbody>\n",
              "</table>\n",
              "</div>\n",
              "      <button class=\"colab-df-convert\" onclick=\"convertToInteractive('df-1f9080b4-3061-4800-8092-2be0395ea4a6')\"\n",
              "              title=\"Convert this dataframe to an interactive table.\"\n",
              "              style=\"display:none;\">\n",
              "        \n",
              "  <svg xmlns=\"http://www.w3.org/2000/svg\" height=\"24px\"viewBox=\"0 0 24 24\"\n",
              "       width=\"24px\">\n",
              "    <path d=\"M0 0h24v24H0V0z\" fill=\"none\"/>\n",
              "    <path d=\"M18.56 5.44l.94 2.06.94-2.06 2.06-.94-2.06-.94-.94-2.06-.94 2.06-2.06.94zm-11 1L8.5 8.5l.94-2.06 2.06-.94-2.06-.94L8.5 2.5l-.94 2.06-2.06.94zm10 10l.94 2.06.94-2.06 2.06-.94-2.06-.94-.94-2.06-.94 2.06-2.06.94z\"/><path d=\"M17.41 7.96l-1.37-1.37c-.4-.4-.92-.59-1.43-.59-.52 0-1.04.2-1.43.59L10.3 9.45l-7.72 7.72c-.78.78-.78 2.05 0 2.83L4 21.41c.39.39.9.59 1.41.59.51 0 1.02-.2 1.41-.59l7.78-7.78 2.81-2.81c.8-.78.8-2.07 0-2.86zM5.41 20L4 18.59l7.72-7.72 1.47 1.35L5.41 20z\"/>\n",
              "  </svg>\n",
              "      </button>\n",
              "      \n",
              "  <style>\n",
              "    .colab-df-container {\n",
              "      display:flex;\n",
              "      flex-wrap:wrap;\n",
              "      gap: 12px;\n",
              "    }\n",
              "\n",
              "    .colab-df-convert {\n",
              "      background-color: #E8F0FE;\n",
              "      border: none;\n",
              "      border-radius: 50%;\n",
              "      cursor: pointer;\n",
              "      display: none;\n",
              "      fill: #1967D2;\n",
              "      height: 32px;\n",
              "      padding: 0 0 0 0;\n",
              "      width: 32px;\n",
              "    }\n",
              "\n",
              "    .colab-df-convert:hover {\n",
              "      background-color: #E2EBFA;\n",
              "      box-shadow: 0px 1px 2px rgba(60, 64, 67, 0.3), 0px 1px 3px 1px rgba(60, 64, 67, 0.15);\n",
              "      fill: #174EA6;\n",
              "    }\n",
              "\n",
              "    [theme=dark] .colab-df-convert {\n",
              "      background-color: #3B4455;\n",
              "      fill: #D2E3FC;\n",
              "    }\n",
              "\n",
              "    [theme=dark] .colab-df-convert:hover {\n",
              "      background-color: #434B5C;\n",
              "      box-shadow: 0px 1px 3px 1px rgba(0, 0, 0, 0.15);\n",
              "      filter: drop-shadow(0px 1px 2px rgba(0, 0, 0, 0.3));\n",
              "      fill: #FFFFFF;\n",
              "    }\n",
              "  </style>\n",
              "\n",
              "      <script>\n",
              "        const buttonEl =\n",
              "          document.querySelector('#df-1f9080b4-3061-4800-8092-2be0395ea4a6 button.colab-df-convert');\n",
              "        buttonEl.style.display =\n",
              "          google.colab.kernel.accessAllowed ? 'block' : 'none';\n",
              "\n",
              "        async function convertToInteractive(key) {\n",
              "          const element = document.querySelector('#df-1f9080b4-3061-4800-8092-2be0395ea4a6');\n",
              "          const dataTable =\n",
              "            await google.colab.kernel.invokeFunction('convertToInteractive',\n",
              "                                                     [key], {});\n",
              "          if (!dataTable) return;\n",
              "\n",
              "          const docLinkHtml = 'Like what you see? Visit the ' +\n",
              "            '<a target=\"_blank\" href=https://colab.research.google.com/notebooks/data_table.ipynb>data table notebook</a>'\n",
              "            + ' to learn more about interactive tables.';\n",
              "          element.innerHTML = '';\n",
              "          dataTable['output_type'] = 'display_data';\n",
              "          await google.colab.output.renderOutput(dataTable, element);\n",
              "          const docLink = document.createElement('div');\n",
              "          docLink.innerHTML = docLinkHtml;\n",
              "          element.appendChild(docLink);\n",
              "        }\n",
              "      </script>\n",
              "    </div>\n",
              "  </div>\n",
              "  "
            ]
          },
          "metadata": {},
          "execution_count": 45
        }
      ]
    },
    {
      "cell_type": "code",
      "source": [
        "df.groupby([\"candidate\", 'sentiment']).size()"
      ],
      "metadata": {
        "colab": {
          "base_uri": "https://localhost:8080/"
        },
        "id": "gYo12JUy09Xh",
        "outputId": "a844f53f-a08f-4327-e503-dcc49dcc2364"
      },
      "execution_count": null,
      "outputs": [
        {
          "output_type": "execute_result",
          "data": {
            "text/plain": [
              "candidate               sentiment\n",
              "Ben Carson              Negative      186\n",
              "                        Neutral        54\n",
              "                        Positive      164\n",
              "Chris Christie          Negative      218\n",
              "                        Neutral        42\n",
              "                        Positive       33\n",
              "Donald Trump            Negative     1758\n",
              "                        Neutral       446\n",
              "                        Positive      609\n",
              "Jeb Bush                Negative      589\n",
              "                        Neutral        72\n",
              "                        Positive       44\n",
              "John Kasich             Negative       82\n",
              "                        Neutral        47\n",
              "                        Positive      113\n",
              "Marco Rubio             Negative      105\n",
              "                        Neutral        51\n",
              "                        Positive      119\n",
              "Mike Huckabee           Negative      237\n",
              "                        Neutral        83\n",
              "                        Positive       73\n",
              "No candidate mentioned  Negative     4724\n",
              "                        Neutral      2087\n",
              "                        Positive      680\n",
              "Rand Paul               Negative      148\n",
              "                        Neutral        60\n",
              "                        Positive       55\n",
              "Scott Walker            Negative      179\n",
              "                        Neutral        38\n",
              "                        Positive       42\n",
              "Ted Cruz                Negative      221\n",
              "                        Neutral       126\n",
              "                        Positive      290\n",
              "dtype: int64"
            ]
          },
          "metadata": {},
          "execution_count": 46
        }
      ]
    },
    {
      "cell_type": "code",
      "source": [
        "df.text"
      ],
      "metadata": {
        "colab": {
          "base_uri": "https://localhost:8080/"
        },
        "id": "l4GAFU1O1LXL",
        "outputId": "f0f67dba-b668-43b2-a193-022f9f9ed35d"
      },
      "execution_count": null,
      "outputs": [
        {
          "output_type": "execute_result",
          "data": {
            "text/plain": [
              "0        RT @NancyLeeGrahn: How did everyone feel about...\n",
              "1        RT @ScottWalker: Didn't catch the full #GOPdeb...\n",
              "2        RT @TJMShow: No mention of Tamir Rice and the ...\n",
              "3        RT @RobGeorge: That Carly Fiorina is trending ...\n",
              "4        RT @DanScavino: #GOPDebate w/ @realDonaldTrump...\n",
              "                               ...                        \n",
              "13866    RT @cappy_yarbrough: Love to see men who will ...\n",
              "13867    RT @georgehenryw: Who thought Huckabee exceede...\n",
              "13868    RT @Lrihendry: #TedCruz As President, I will a...\n",
              "13869    RT @JRehling: #GOPDebate Donald Trump says tha...\n",
              "13870    RT @Lrihendry: #TedCruz headed into the Presid...\n",
              "Name: text, Length: 13871, dtype: object"
            ]
          },
          "metadata": {},
          "execution_count": 47
        }
      ]
    },
    {
      "cell_type": "code",
      "source": [
        "sample_tweet = df.text[0]"
      ],
      "metadata": {
        "id": "BCu1J6-W1dZo"
      },
      "execution_count": null,
      "outputs": []
    },
    {
      "cell_type": "code",
      "source": [
        "# Regex Based\n",
        "df.text = df.text.str.replace('^RT\\s@\\w+:\\s', '', regex=True)\n",
        "df.text"
      ],
      "metadata": {
        "colab": {
          "base_uri": "https://localhost:8080/"
        },
        "id": "xy-ulJI8144v",
        "outputId": "132f6a85-eda9-4bd0-f640-b4d34df38dfc"
      },
      "execution_count": null,
      "outputs": [
        {
          "output_type": "execute_result",
          "data": {
            "text/plain": [
              "0        How did everyone feel about the Climate Change...\n",
              "1        Didn't catch the full #GOPdebate last night. H...\n",
              "2        No mention of Tamir Rice and the #GOPDebate wa...\n",
              "3        That Carly Fiorina is trending -- hours after ...\n",
              "4        #GOPDebate w/ @realDonaldTrump delivered the h...\n",
              "                               ...                        \n",
              "13866    Love to see men who will never be faced with a...\n",
              "13867    Who thought Huckabee exceeded their expectatio...\n",
              "13868    #TedCruz As President, I will always tell the ...\n",
              "13869    #GOPDebate Donald Trump says that he doesn't h...\n",
              "13870    #TedCruz headed into the Presidential Debates....\n",
              "Name: text, Length: 13871, dtype: object"
            ]
          },
          "metadata": {},
          "execution_count": 60
        }
      ]
    },
    {
      "cell_type": "code",
      "source": [
        "# def remove_rt(text):\n",
        "#   if 'rt @' in text.lower():\n",
        "#     return \"\".join(text.split(\":\")[1:])\n",
        "#   else:\n",
        "#     return text"
      ],
      "metadata": {
        "id": "WpBdH_Bf2BCd"
      },
      "execution_count": null,
      "outputs": []
    },
    {
      "cell_type": "code",
      "source": [
        "import string\n",
        "import re\n",
        "string.punctuation"
      ],
      "metadata": {
        "colab": {
          "base_uri": "https://localhost:8080/",
          "height": 35
        },
        "id": "iQgh9PlG2kt9",
        "outputId": "f6d17d7c-0219-4324-b49b-b91d8d0ada0c"
      },
      "execution_count": null,
      "outputs": [
        {
          "output_type": "execute_result",
          "data": {
            "text/plain": [
              "'!\"#$%&\\'()*+,-./:;<=>?@[\\\\]^_`{|}~'"
            ],
            "application/vnd.google.colaboratory.intrinsic+json": {
              "type": "string"
            }
          },
          "metadata": {},
          "execution_count": 64
        }
      ]
    },
    {
      "cell_type": "code",
      "source": [
        "df.text"
      ],
      "metadata": {
        "colab": {
          "base_uri": "https://localhost:8080/"
        },
        "id": "64oQSXYw3vvA",
        "outputId": "2dcb875e-3983-4196-f1ec-8e3fc35acbb7"
      },
      "execution_count": null,
      "outputs": [
        {
          "output_type": "execute_result",
          "data": {
            "text/plain": [
              "0        How did everyone feel about the Climate Change...\n",
              "1        Didn't catch the full #GOPdebate last night. H...\n",
              "2        No mention of Tamir Rice and the #GOPDebate wa...\n",
              "3        That Carly Fiorina is trending -- hours after ...\n",
              "4        #GOPDebate w/ @realDonaldTrump delivered the h...\n",
              "                               ...                        \n",
              "13866    Love to see men who will never be faced with a...\n",
              "13867    Who thought Huckabee exceeded their expectatio...\n",
              "13868    #TedCruz As President, I will always tell the ...\n",
              "13869    #GOPDebate Donald Trump says that he doesn't h...\n",
              "13870    #TedCruz headed into the Presidential Debates....\n",
              "Name: text, Length: 13871, dtype: object"
            ]
          },
          "metadata": {},
          "execution_count": 66
        }
      ]
    },
    {
      "cell_type": "code",
      "source": [
        "df.text\n",
        "df.text.apply(lambda x: re.sub('[^a-zA-Z0-9\\s]', \"\", x))"
      ],
      "metadata": {
        "colab": {
          "base_uri": "https://localhost:8080/"
        },
        "id": "0Yw7eDV93Wb_",
        "outputId": "92e67e2e-cc87-4531-e145-9de0f105903c"
      },
      "execution_count": null,
      "outputs": [
        {
          "output_type": "execute_result",
          "data": {
            "text/plain": [
              "0        How did everyone feel about the Climate Change...\n",
              "1        Didnt catch the full GOPdebate last night Here...\n",
              "2        No mention of Tamir Rice and the GOPDebate was...\n",
              "3        That Carly Fiorina is trending  hours after HE...\n",
              "4        GOPDebate w realDonaldTrump delivered the high...\n",
              "                               ...                        \n",
              "13866    Love to see men who will never be faced with a...\n",
              "13867    Who thought Huckabee exceeded their expectatio...\n",
              "13868    TedCruz As President I will always tell the tr...\n",
              "13869    GOPDebate Donald Trump says that he doesnt hav...\n",
              "13870    TedCruz headed into the Presidential Debates G...\n",
              "Name: text, Length: 13871, dtype: object"
            ]
          },
          "metadata": {},
          "execution_count": 65
        }
      ]
    },
    {
      "cell_type": "code",
      "source": [
        "df.text = df.text.str.lower()"
      ],
      "metadata": {
        "id": "JtwvQtJi3dTk"
      },
      "execution_count": null,
      "outputs": []
    },
    {
      "cell_type": "code",
      "source": [
        "# Remove Stop word"
      ],
      "metadata": {
        "id": "_ViWos1M4lwD"
      },
      "execution_count": null,
      "outputs": []
    },
    {
      "cell_type": "code",
      "source": [
        "def remove_stopword(tweet):\n",
        "  doc = nlp(tweet)\n",
        "  nonStopwords = []\n",
        "  for word in doc:\n",
        "    if word.is_stop == False:\n",
        "      nonStopwords.append(word.text)\n",
        "  return \" \".join(nonStopwords) # join the elements of list based on \" \""
      ],
      "metadata": {
        "id": "_rzY3N3V4qCg"
      },
      "execution_count": null,
      "outputs": []
    },
    {
      "cell_type": "code",
      "source": [
        "remove_stopword(\"Sam is ,%^ super coo\")"
      ],
      "metadata": {
        "colab": {
          "base_uri": "https://localhost:8080/",
          "height": 35
        },
        "id": "hgsQcN3h8DQc",
        "outputId": "5d14c8d9-4435-4f40-d46e-956b35794b96"
      },
      "execution_count": null,
      "outputs": [
        {
          "output_type": "execute_result",
          "data": {
            "text/plain": [
              "'Sam , % ^ super coo'"
            ],
            "application/vnd.google.colaboratory.intrinsic+json": {
              "type": "string"
            }
          },
          "metadata": {},
          "execution_count": 88
        }
      ]
    },
    {
      "cell_type": "code",
      "source": [
        "\" \".join([\"Sam\", \"is\", \"awesome\"])"
      ],
      "metadata": {
        "colab": {
          "base_uri": "https://localhost:8080/",
          "height": 35
        },
        "id": "M5wQeBD_5F5N",
        "outputId": "13c39f69-01d9-481a-8141-a2e68d782f46"
      },
      "execution_count": null,
      "outputs": [
        {
          "output_type": "execute_result",
          "data": {
            "text/plain": [
              "'Sam is awesome'"
            ],
            "application/vnd.google.colaboratory.intrinsic+json": {
              "type": "string"
            }
          },
          "metadata": {},
          "execution_count": 76
        }
      ]
    },
    {
      "cell_type": "code",
      "source": [
        "df[\"text2\"] = None"
      ],
      "metadata": {
        "id": "wTuR40Sp7Tvn"
      },
      "execution_count": null,
      "outputs": []
    },
    {
      "cell_type": "code",
      "source": [
        "df[\"text2\"] = df.text.apply(remove_stopword)"
      ],
      "metadata": {
        "id": "0EzLIXjE5Pko"
      },
      "execution_count": null,
      "outputs": []
    },
    {
      "cell_type": "code",
      "source": [
        "df.sample(5)"
      ],
      "metadata": {
        "colab": {
          "base_uri": "https://localhost:8080/",
          "height": 206
        },
        "id": "wrYKm9-B7LFv",
        "outputId": "ee03008d-0893-4b2a-ed22-631fa952dc56"
      },
      "execution_count": null,
      "outputs": [
        {
          "output_type": "execute_result",
          "data": {
            "text/plain": [
              "                    candidate  \\\n",
              "1297   No candidate mentioned   \n",
              "9353              John Kasich   \n",
              "124    No candidate mentioned   \n",
              "13816            Donald Trump   \n",
              "5980   No candidate mentioned   \n",
              "\n",
              "                                                    text sentiment  \\\n",
              "1297   #deathbydemocrat   anything goes. no morals. n...  Negative   \n",
              "9353   “@msgoddessrises: maybe three! kasich, bush, t...   Neutral   \n",
              "124    democrats watching the #gopdebate last night h...   Neutral   \n",
              "13816  @foxnews taking huge cheap shots @realdonaldtr...  Negative   \n",
              "5980   #gopdebate field: eight senators &amp; governo...   Neutral   \n",
              "\n",
              "                                                   text2  \n",
              "1297   # deathbydemocrat    goes . morals . values . ...  \n",
              "9353   “ @msgoddessrises : maybe ! kasich , bush , tr...  \n",
              "124    democrats watching # gopdebate night http://t....  \n",
              "13816  @foxnews taking huge cheap shots @realdonaldtr...  \n",
              "5980   # gopdebate field : senators & amp ; governors...  "
            ],
            "text/html": [
              "\n",
              "  <div id=\"df-487435dd-cc0b-45a1-8c26-63597234ab8b\">\n",
              "    <div class=\"colab-df-container\">\n",
              "      <div>\n",
              "<style scoped>\n",
              "    .dataframe tbody tr th:only-of-type {\n",
              "        vertical-align: middle;\n",
              "    }\n",
              "\n",
              "    .dataframe tbody tr th {\n",
              "        vertical-align: top;\n",
              "    }\n",
              "\n",
              "    .dataframe thead th {\n",
              "        text-align: right;\n",
              "    }\n",
              "</style>\n",
              "<table border=\"1\" class=\"dataframe\">\n",
              "  <thead>\n",
              "    <tr style=\"text-align: right;\">\n",
              "      <th></th>\n",
              "      <th>candidate</th>\n",
              "      <th>text</th>\n",
              "      <th>sentiment</th>\n",
              "      <th>text2</th>\n",
              "    </tr>\n",
              "  </thead>\n",
              "  <tbody>\n",
              "    <tr>\n",
              "      <th>1297</th>\n",
              "      <td>No candidate mentioned</td>\n",
              "      <td>#deathbydemocrat   anything goes. no morals. n...</td>\n",
              "      <td>Negative</td>\n",
              "      <td># deathbydemocrat    goes . morals . values . ...</td>\n",
              "    </tr>\n",
              "    <tr>\n",
              "      <th>9353</th>\n",
              "      <td>John Kasich</td>\n",
              "      <td>“@msgoddessrises: maybe three! kasich, bush, t...</td>\n",
              "      <td>Neutral</td>\n",
              "      <td>“ @msgoddessrises : maybe ! kasich , bush , tr...</td>\n",
              "    </tr>\n",
              "    <tr>\n",
              "      <th>124</th>\n",
              "      <td>No candidate mentioned</td>\n",
              "      <td>democrats watching the #gopdebate last night h...</td>\n",
              "      <td>Neutral</td>\n",
              "      <td>democrats watching # gopdebate night http://t....</td>\n",
              "    </tr>\n",
              "    <tr>\n",
              "      <th>13816</th>\n",
              "      <td>Donald Trump</td>\n",
              "      <td>@foxnews taking huge cheap shots @realdonaldtr...</td>\n",
              "      <td>Negative</td>\n",
              "      <td>@foxnews taking huge cheap shots @realdonaldtr...</td>\n",
              "    </tr>\n",
              "    <tr>\n",
              "      <th>5980</th>\n",
              "      <td>No candidate mentioned</td>\n",
              "      <td>#gopdebate field: eight senators &amp;amp; governo...</td>\n",
              "      <td>Neutral</td>\n",
              "      <td># gopdebate field : senators &amp; amp ; governors...</td>\n",
              "    </tr>\n",
              "  </tbody>\n",
              "</table>\n",
              "</div>\n",
              "      <button class=\"colab-df-convert\" onclick=\"convertToInteractive('df-487435dd-cc0b-45a1-8c26-63597234ab8b')\"\n",
              "              title=\"Convert this dataframe to an interactive table.\"\n",
              "              style=\"display:none;\">\n",
              "        \n",
              "  <svg xmlns=\"http://www.w3.org/2000/svg\" height=\"24px\"viewBox=\"0 0 24 24\"\n",
              "       width=\"24px\">\n",
              "    <path d=\"M0 0h24v24H0V0z\" fill=\"none\"/>\n",
              "    <path d=\"M18.56 5.44l.94 2.06.94-2.06 2.06-.94-2.06-.94-.94-2.06-.94 2.06-2.06.94zm-11 1L8.5 8.5l.94-2.06 2.06-.94-2.06-.94L8.5 2.5l-.94 2.06-2.06.94zm10 10l.94 2.06.94-2.06 2.06-.94-2.06-.94-.94-2.06-.94 2.06-2.06.94z\"/><path d=\"M17.41 7.96l-1.37-1.37c-.4-.4-.92-.59-1.43-.59-.52 0-1.04.2-1.43.59L10.3 9.45l-7.72 7.72c-.78.78-.78 2.05 0 2.83L4 21.41c.39.39.9.59 1.41.59.51 0 1.02-.2 1.41-.59l7.78-7.78 2.81-2.81c.8-.78.8-2.07 0-2.86zM5.41 20L4 18.59l7.72-7.72 1.47 1.35L5.41 20z\"/>\n",
              "  </svg>\n",
              "      </button>\n",
              "      \n",
              "  <style>\n",
              "    .colab-df-container {\n",
              "      display:flex;\n",
              "      flex-wrap:wrap;\n",
              "      gap: 12px;\n",
              "    }\n",
              "\n",
              "    .colab-df-convert {\n",
              "      background-color: #E8F0FE;\n",
              "      border: none;\n",
              "      border-radius: 50%;\n",
              "      cursor: pointer;\n",
              "      display: none;\n",
              "      fill: #1967D2;\n",
              "      height: 32px;\n",
              "      padding: 0 0 0 0;\n",
              "      width: 32px;\n",
              "    }\n",
              "\n",
              "    .colab-df-convert:hover {\n",
              "      background-color: #E2EBFA;\n",
              "      box-shadow: 0px 1px 2px rgba(60, 64, 67, 0.3), 0px 1px 3px 1px rgba(60, 64, 67, 0.15);\n",
              "      fill: #174EA6;\n",
              "    }\n",
              "\n",
              "    [theme=dark] .colab-df-convert {\n",
              "      background-color: #3B4455;\n",
              "      fill: #D2E3FC;\n",
              "    }\n",
              "\n",
              "    [theme=dark] .colab-df-convert:hover {\n",
              "      background-color: #434B5C;\n",
              "      box-shadow: 0px 1px 3px 1px rgba(0, 0, 0, 0.15);\n",
              "      filter: drop-shadow(0px 1px 2px rgba(0, 0, 0, 0.3));\n",
              "      fill: #FFFFFF;\n",
              "    }\n",
              "  </style>\n",
              "\n",
              "      <script>\n",
              "        const buttonEl =\n",
              "          document.querySelector('#df-487435dd-cc0b-45a1-8c26-63597234ab8b button.colab-df-convert');\n",
              "        buttonEl.style.display =\n",
              "          google.colab.kernel.accessAllowed ? 'block' : 'none';\n",
              "\n",
              "        async function convertToInteractive(key) {\n",
              "          const element = document.querySelector('#df-487435dd-cc0b-45a1-8c26-63597234ab8b');\n",
              "          const dataTable =\n",
              "            await google.colab.kernel.invokeFunction('convertToInteractive',\n",
              "                                                     [key], {});\n",
              "          if (!dataTable) return;\n",
              "\n",
              "          const docLinkHtml = 'Like what you see? Visit the ' +\n",
              "            '<a target=\"_blank\" href=https://colab.research.google.com/notebooks/data_table.ipynb>data table notebook</a>'\n",
              "            + ' to learn more about interactive tables.';\n",
              "          element.innerHTML = '';\n",
              "          dataTable['output_type'] = 'display_data';\n",
              "          await google.colab.output.renderOutput(dataTable, element);\n",
              "          const docLink = document.createElement('div');\n",
              "          docLink.innerHTML = docLinkHtml;\n",
              "          element.appendChild(docLink);\n",
              "        }\n",
              "      </script>\n",
              "    </div>\n",
              "  </div>\n",
              "  "
            ]
          },
          "metadata": {},
          "execution_count": 91
        }
      ]
    },
    {
      "cell_type": "code",
      "source": [
        "df.shape"
      ],
      "metadata": {
        "colab": {
          "base_uri": "https://localhost:8080/"
        },
        "id": "GhSQ2exJ5g1K",
        "outputId": "0987b75b-7c39-448d-e856-3fe5e7d02944"
      },
      "execution_count": null,
      "outputs": [
        {
          "output_type": "execute_result",
          "data": {
            "text/plain": [
              "(13871, 4)"
            ]
          },
          "metadata": {},
          "execution_count": 92
        }
      ]
    },
    {
      "cell_type": "code",
      "source": [
        "df[\"text2\"] = df.text2.apply(lambda x: re.sub('[^a-zA-Z0-9\\s]', \"\", x))"
      ],
      "metadata": {
        "id": "Xroni5-t7IbB"
      },
      "execution_count": null,
      "outputs": []
    },
    {
      "cell_type": "code",
      "source": [
        "df.sample(5)"
      ],
      "metadata": {
        "colab": {
          "base_uri": "https://localhost:8080/",
          "height": 206
        },
        "id": "jszJ71uD9k56",
        "outputId": "bdc984e7-01e1-4a93-80ee-91c570ce71ee"
      },
      "execution_count": null,
      "outputs": [
        {
          "output_type": "execute_result",
          "data": {
            "text/plain": [
              "                    candidate  \\\n",
              "9977   No candidate mentioned   \n",
              "8714   No candidate mentioned   \n",
              "11547                Jeb Bush   \n",
              "3267   No candidate mentioned   \n",
              "13419                Jeb Bush   \n",
              "\n",
              "                                                    text sentiment  \\\n",
              "9977   what ever happened to the answers to how they ...  Negative   \n",
              "8714   it was unfathomable that @megynkelly would ask...  Negative   \n",
              "11547  .@dccc @ppfa\\ncancel the primaries. fox party ...  Negative   \n",
              "3267   anyone else notice carlton during the #gopdeba...  Negative   \n",
              "13419                   jeb bush who??😴😴😴😴😴. #gopdebates  Negative   \n",
              "\n",
              "                                                   text2  \n",
              "9977      happened answers gon na care vets   gopdebates  \n",
              "8714   unfathomable megynkelly ask wasserman  schultz...  \n",
              "11547  dccc ppfa \\n cancel primaries  fox party set  ...  \n",
              "3267   notice carlton  gopdebate night  httptcouk6wek...  \n",
              "13419                     jeb bush who        gopdebates  "
            ],
            "text/html": [
              "\n",
              "  <div id=\"df-8c8846e9-5cd4-43ff-a7ba-b94bf9e66f16\">\n",
              "    <div class=\"colab-df-container\">\n",
              "      <div>\n",
              "<style scoped>\n",
              "    .dataframe tbody tr th:only-of-type {\n",
              "        vertical-align: middle;\n",
              "    }\n",
              "\n",
              "    .dataframe tbody tr th {\n",
              "        vertical-align: top;\n",
              "    }\n",
              "\n",
              "    .dataframe thead th {\n",
              "        text-align: right;\n",
              "    }\n",
              "</style>\n",
              "<table border=\"1\" class=\"dataframe\">\n",
              "  <thead>\n",
              "    <tr style=\"text-align: right;\">\n",
              "      <th></th>\n",
              "      <th>candidate</th>\n",
              "      <th>text</th>\n",
              "      <th>sentiment</th>\n",
              "      <th>text2</th>\n",
              "    </tr>\n",
              "  </thead>\n",
              "  <tbody>\n",
              "    <tr>\n",
              "      <th>9977</th>\n",
              "      <td>No candidate mentioned</td>\n",
              "      <td>what ever happened to the answers to how they ...</td>\n",
              "      <td>Negative</td>\n",
              "      <td>happened answers gon na care vets   gopdebates</td>\n",
              "    </tr>\n",
              "    <tr>\n",
              "      <th>8714</th>\n",
              "      <td>No candidate mentioned</td>\n",
              "      <td>it was unfathomable that @megynkelly would ask...</td>\n",
              "      <td>Negative</td>\n",
              "      <td>unfathomable megynkelly ask wasserman  schultz...</td>\n",
              "    </tr>\n",
              "    <tr>\n",
              "      <th>11547</th>\n",
              "      <td>Jeb Bush</td>\n",
              "      <td>.@dccc @ppfa\\ncancel the primaries. fox party ...</td>\n",
              "      <td>Negative</td>\n",
              "      <td>dccc ppfa \\n cancel primaries  fox party set  ...</td>\n",
              "    </tr>\n",
              "    <tr>\n",
              "      <th>3267</th>\n",
              "      <td>No candidate mentioned</td>\n",
              "      <td>anyone else notice carlton during the #gopdeba...</td>\n",
              "      <td>Negative</td>\n",
              "      <td>notice carlton  gopdebate night  httptcouk6wek...</td>\n",
              "    </tr>\n",
              "    <tr>\n",
              "      <th>13419</th>\n",
              "      <td>Jeb Bush</td>\n",
              "      <td>jeb bush who??😴😴😴😴😴. #gopdebates</td>\n",
              "      <td>Negative</td>\n",
              "      <td>jeb bush who        gopdebates</td>\n",
              "    </tr>\n",
              "  </tbody>\n",
              "</table>\n",
              "</div>\n",
              "      <button class=\"colab-df-convert\" onclick=\"convertToInteractive('df-8c8846e9-5cd4-43ff-a7ba-b94bf9e66f16')\"\n",
              "              title=\"Convert this dataframe to an interactive table.\"\n",
              "              style=\"display:none;\">\n",
              "        \n",
              "  <svg xmlns=\"http://www.w3.org/2000/svg\" height=\"24px\"viewBox=\"0 0 24 24\"\n",
              "       width=\"24px\">\n",
              "    <path d=\"M0 0h24v24H0V0z\" fill=\"none\"/>\n",
              "    <path d=\"M18.56 5.44l.94 2.06.94-2.06 2.06-.94-2.06-.94-.94-2.06-.94 2.06-2.06.94zm-11 1L8.5 8.5l.94-2.06 2.06-.94-2.06-.94L8.5 2.5l-.94 2.06-2.06.94zm10 10l.94 2.06.94-2.06 2.06-.94-2.06-.94-.94-2.06-.94 2.06-2.06.94z\"/><path d=\"M17.41 7.96l-1.37-1.37c-.4-.4-.92-.59-1.43-.59-.52 0-1.04.2-1.43.59L10.3 9.45l-7.72 7.72c-.78.78-.78 2.05 0 2.83L4 21.41c.39.39.9.59 1.41.59.51 0 1.02-.2 1.41-.59l7.78-7.78 2.81-2.81c.8-.78.8-2.07 0-2.86zM5.41 20L4 18.59l7.72-7.72 1.47 1.35L5.41 20z\"/>\n",
              "  </svg>\n",
              "      </button>\n",
              "      \n",
              "  <style>\n",
              "    .colab-df-container {\n",
              "      display:flex;\n",
              "      flex-wrap:wrap;\n",
              "      gap: 12px;\n",
              "    }\n",
              "\n",
              "    .colab-df-convert {\n",
              "      background-color: #E8F0FE;\n",
              "      border: none;\n",
              "      border-radius: 50%;\n",
              "      cursor: pointer;\n",
              "      display: none;\n",
              "      fill: #1967D2;\n",
              "      height: 32px;\n",
              "      padding: 0 0 0 0;\n",
              "      width: 32px;\n",
              "    }\n",
              "\n",
              "    .colab-df-convert:hover {\n",
              "      background-color: #E2EBFA;\n",
              "      box-shadow: 0px 1px 2px rgba(60, 64, 67, 0.3), 0px 1px 3px 1px rgba(60, 64, 67, 0.15);\n",
              "      fill: #174EA6;\n",
              "    }\n",
              "\n",
              "    [theme=dark] .colab-df-convert {\n",
              "      background-color: #3B4455;\n",
              "      fill: #D2E3FC;\n",
              "    }\n",
              "\n",
              "    [theme=dark] .colab-df-convert:hover {\n",
              "      background-color: #434B5C;\n",
              "      box-shadow: 0px 1px 3px 1px rgba(0, 0, 0, 0.15);\n",
              "      filter: drop-shadow(0px 1px 2px rgba(0, 0, 0, 0.3));\n",
              "      fill: #FFFFFF;\n",
              "    }\n",
              "  </style>\n",
              "\n",
              "      <script>\n",
              "        const buttonEl =\n",
              "          document.querySelector('#df-8c8846e9-5cd4-43ff-a7ba-b94bf9e66f16 button.colab-df-convert');\n",
              "        buttonEl.style.display =\n",
              "          google.colab.kernel.accessAllowed ? 'block' : 'none';\n",
              "\n",
              "        async function convertToInteractive(key) {\n",
              "          const element = document.querySelector('#df-8c8846e9-5cd4-43ff-a7ba-b94bf9e66f16');\n",
              "          const dataTable =\n",
              "            await google.colab.kernel.invokeFunction('convertToInteractive',\n",
              "                                                     [key], {});\n",
              "          if (!dataTable) return;\n",
              "\n",
              "          const docLinkHtml = 'Like what you see? Visit the ' +\n",
              "            '<a target=\"_blank\" href=https://colab.research.google.com/notebooks/data_table.ipynb>data table notebook</a>'\n",
              "            + ' to learn more about interactive tables.';\n",
              "          element.innerHTML = '';\n",
              "          dataTable['output_type'] = 'display_data';\n",
              "          await google.colab.output.renderOutput(dataTable, element);\n",
              "          const docLink = document.createElement('div');\n",
              "          docLink.innerHTML = docLinkHtml;\n",
              "          element.appendChild(docLink);\n",
              "        }\n",
              "      </script>\n",
              "    </div>\n",
              "  </div>\n",
              "  "
            ]
          },
          "metadata": {},
          "execution_count": 95
        }
      ]
    },
    {
      "cell_type": "code",
      "source": [
        "import tensorflow as tf"
      ],
      "metadata": {
        "id": "tBcsrWd69oJB"
      },
      "execution_count": null,
      "outputs": []
    },
    {
      "cell_type": "code",
      "source": [
        "from tensorflow.keras.preprocessing.text import Tokenizer\n",
        "from tensorflow.keras.preprocessing.sequence import pad_sequences"
      ],
      "metadata": {
        "id": "1ADf5nVK96XF"
      },
      "execution_count": null,
      "outputs": []
    },
    {
      "cell_type": "code",
      "source": [
        "max_features = 2000\n",
        "token = Tokenizer(max_features, split=\" \")"
      ],
      "metadata": {
        "id": "Npruj132-PQh"
      },
      "execution_count": null,
      "outputs": []
    },
    {
      "cell_type": "code",
      "source": [
        "token.fit_on_texts(df.text2)"
      ],
      "metadata": {
        "id": "Nxv5Ueod-eKz"
      },
      "execution_count": null,
      "outputs": []
    },
    {
      "cell_type": "code",
      "source": [
        "token.index_word"
      ],
      "metadata": {
        "colab": {
          "base_uri": "https://localhost:8080/"
        },
        "id": "EKDCiDpP-27W",
        "outputId": "1bada214-7dce-45e8-a792-e3e5776596c4"
      },
      "execution_count": null,
      "outputs": [
        {
          "output_type": "execute_result",
          "data": {
            "text/plain": [
              "{1: 'gopdebate',\n",
              " 2: 'gopdebates',\n",
              " 3: 't',\n",
              " 4: 'co',\n",
              " 5: 'http',\n",
              " 6: '…',\n",
              " 7: 'trump',\n",
              " 8: '🇺',\n",
              " 9: '🇸',\n",
              " 10: 'fox',\n",
              " 11: 'realdonaldtrump',\n",
              " 12: 'debate',\n",
              " 13: 'amp',\n",
              " 14: 'news',\n",
              " 15: 'https',\n",
              " 16: 'night',\n",
              " 17: 'candidates',\n",
              " 18: 'gop',\n",
              " 19: 'like',\n",
              " 20: 'megynkelly',\n",
              " 21: 'people',\n",
              " 22: 'foxnews',\n",
              " 23: 'jeb',\n",
              " 24: 'bush',\n",
              " 25: 'think',\n",
              " 26: 'cruz',\n",
              " 27: 'president',\n",
              " 28: 'republican',\n",
              " 29: 'god',\n",
              " 30: 'donald',\n",
              " 31: 'chris',\n",
              " 32: 'need',\n",
              " 33: 'ask',\n",
              " 34: 'rubio',\n",
              " 35: 'want',\n",
              " 36: \"'\",\n",
              " 37: 'questions',\n",
              " 38: 'wallace',\n",
              " 39: 'carson',\n",
              " 40: 'question',\n",
              " 41: 'women',\n",
              " 42: 'said',\n",
              " 43: 'time',\n",
              " 44: 'know',\n",
              " 45: 'watching',\n",
              " 46: 'tonight',\n",
              " 47: 'candidate',\n",
              " 48: 'huckabee',\n",
              " 49: 'right',\n",
              " 50: 'tedcruz',\n",
              " 51: 'job',\n",
              " 52: 'fair',\n",
              " 53: 'megyn',\n",
              " 54: 'america',\n",
              " 55: 'trying',\n",
              " 56: 'got',\n",
              " 57: 'face',\n",
              " 58: 'hear',\n",
              " 59: 'american',\n",
              " 60: 'tcot',\n",
              " 61: 'balanced',\n",
              " 62: 'stage',\n",
              " 63: 'good',\n",
              " 64: 'party',\n",
              " 65: 'paul',\n",
              " 66: 'hillary',\n",
              " 67: 'watch',\n",
              " 68: 'g',\n",
              " 69: 'walker',\n",
              " 70: 'great',\n",
              " 71: 'kasich',\n",
              " 72: '2',\n",
              " 73: 'talk',\n",
              " 74: 'money',\n",
              " 75: 'carlyfiorina',\n",
              " 76: 'won',\n",
              " 77: 'rt',\n",
              " 78: 'field',\n",
              " 79: 'men',\n",
              " 80: 'going',\n",
              " 81: 'set',\n",
              " 82: 'ben',\n",
              " 83: 'listen',\n",
              " 84: 'kelly',\n",
              " 85: 'best',\n",
              " 86: 'obama',\n",
              " 87: 'real',\n",
              " 88: 'presidential',\n",
              " 89: 'attack',\n",
              " 90: 'christie',\n",
              " 91: 'look',\n",
              " 92: 'debates',\n",
              " 93: 'reminds',\n",
              " 94: 'gets',\n",
              " 95: 'things',\n",
              " 96: 'tell',\n",
              " 97: 'ted',\n",
              " 98: 'rand',\n",
              " 99: 'obviously',\n",
              " 100: 'military',\n",
              " 101: 'talking',\n",
              " 102: 'music',\n",
              " 103: 'gopdebat',\n",
              " 104: 'thanks',\n",
              " 105: 'rid',\n",
              " 106: 'states',\n",
              " 107: 'elevator',\n",
              " 108: 'pick',\n",
              " 109: 'influence',\n",
              " 110: 'speaking',\n",
              " 111: 'says',\n",
              " 112: 'vote',\n",
              " 113: 'let',\n",
              " 114: 'w',\n",
              " 115: 'makeup',\n",
              " 116: 'comes',\n",
              " 117: 'love',\n",
              " 118: 'united',\n",
              " 119: 'disappointing',\n",
              " 120: '1',\n",
              " 121: 'support',\n",
              " 122: 'break',\n",
              " 123: 'better',\n",
              " 124: 'man',\n",
              " 125: '“',\n",
              " 126: 'hillaryclinton',\n",
              " 127: 'fiorina',\n",
              " 128: 'country',\n",
              " 129: 'band',\n",
              " 130: 'expose',\n",
              " 131: 'conducting',\n",
              " 132: 'ratings',\n",
              " 133: '”',\n",
              " 134: 'u',\n",
              " 135: 'long',\n",
              " 136: 'big',\n",
              " 137: 'oh',\n",
              " 138: 'life',\n",
              " 139: 'randpaul',\n",
              " 140: 'rights',\n",
              " 141: 'win',\n",
              " 142: 'punch',\n",
              " 143: 'donaldtrump',\n",
              " 144: '10',\n",
              " 145: 'woman',\n",
              " 146: 'winner',\n",
              " 147: 'immigration',\n",
              " 148: 'bring',\n",
              " 149: 'mean',\n",
              " 150: 'twitter',\n",
              " 151: 'issues',\n",
              " 152: 'social',\n",
              " 153: 'stoping',\n",
              " 154: 'thing',\n",
              " 155: 'truth',\n",
              " 156: 'wo',\n",
              " 157: 'softball',\n",
              " 158: 'republicans',\n",
              " 159: 'picking',\n",
              " 160: 'carly',\n",
              " 161: 'way',\n",
              " 162: 'kill',\n",
              " 163: 'mike',\n",
              " 164: 'political',\n",
              " 165: 'moderators',\n",
              " 166: 'new',\n",
              " 167: 'cherry',\n",
              " 168: 'marcorubio',\n",
              " 169: 'finances',\n",
              " 170: 'answer',\n",
              " 171: 'politicans',\n",
              " 172: 'jebbush',\n",
              " 173: 'speak',\n",
              " 174: 'clinton',\n",
              " 175: 'adult',\n",
              " 176: 'abortion',\n",
              " 177: 'hands',\n",
              " 178: 'tv',\n",
              " 179: 'sure',\n",
              " 180: 'word',\n",
              " 181: 'plan',\n",
              " 182: 'pictures',\n",
              " 183: 'looking',\n",
              " 184: 'posed',\n",
              " 185: 'white',\n",
              " 186: 'watched',\n",
              " 187: 'lol',\n",
              " 188: 'should',\n",
              " 189: 'kkkorgop',\n",
              " 190: 'realbencarson',\n",
              " 191: 'scott',\n",
              " 192: 'democrats',\n",
              " 193: 'control',\n",
              " 194: '2016',\n",
              " 195: 'govchristie',\n",
              " 196: 'media',\n",
              " 197: '3',\n",
              " 198: 'actually',\n",
              " 199: 'marco',\n",
              " 200: 'black',\n",
              " 201: 'person',\n",
              " 202: 'fact',\n",
              " 203: 'given',\n",
              " 204: 'day',\n",
              " 205: 'today',\n",
              " 206: '😂',\n",
              " 207: 'gopd',\n",
              " 208: 'raising',\n",
              " 209: 'live',\n",
              " 210: 'hey',\n",
              " 211: 'blacklivesmatter',\n",
              " 212: 'leader',\n",
              " 213: 'world',\n",
              " 214: 's',\n",
              " 215: 'saying',\n",
              " 216: 'dear',\n",
              " 217: 'thinks',\n",
              " 218: 'closing',\n",
              " 219: 'war',\n",
              " 220: 'c',\n",
              " 221: 'guys',\n",
              " 222: 'politics',\n",
              " 223: 'scottwalker',\n",
              " 224: '5',\n",
              " 225: 'nomination',\n",
              " 226: 'forward',\n",
              " 227: 'order',\n",
              " 228: 'wants',\n",
              " 229: 'dr',\n",
              " 230: 'purpose',\n",
              " 231: 'change',\n",
              " 232: 'run',\n",
              " 233: 'asked',\n",
              " 234: 'thought',\n",
              " 235: 'bad',\n",
              " 236: 'reagan',\n",
              " 237: 'seen',\n",
              " 238: 'guy',\n",
              " 239: 'hard',\n",
              " 240: 'admit',\n",
              " 241: 'legitimate',\n",
              " 242: 'nails',\n",
              " 243: 'chrischristie',\n",
              " 244: 'care',\n",
              " 245: 'true',\n",
              " 246: 'problem',\n",
              " 247: 'state',\n",
              " 248: 'yes',\n",
              " 249: 'needs',\n",
              " 250: 'lead',\n",
              " 251: 'trump2016',\n",
              " 252: 'govmikehuckabee',\n",
              " 253: 'stop',\n",
              " 254: 'looks',\n",
              " 255: 'johnkasich',\n",
              " 256: 'fight',\n",
              " 257: 'cam',\n",
              " 258: 'americans',\n",
              " 259: 'happened',\n",
              " 260: 'little',\n",
              " 261: 'potus',\n",
              " 262: 'running',\n",
              " 263: 'biggest',\n",
              " 264: 'clear',\n",
              " 265: 'illegal',\n",
              " 266: 'iran',\n",
              " 267: 'audience',\n",
              " 268: 'seriously',\n",
              " 269: 'pro',\n",
              " 270: 'climate',\n",
              " 271: 'john',\n",
              " 272: 'making',\n",
              " 273: 'makes',\n",
              " 274: 'believe',\n",
              " 275: 'gt',\n",
              " 276: 'years',\n",
              " 277: 'cnn',\n",
              " 278: 'enjoyed',\n",
              " 279: 'hell',\n",
              " 280: 'getting',\n",
              " 281: 'wait',\n",
              " 282: 'race',\n",
              " 283: '4',\n",
              " 284: 'foxdebate',\n",
              " 285: 'politicians',\n",
              " 286: 'fun',\n",
              " 287: 'hate',\n",
              " 288: 'calling',\n",
              " 289: 'help',\n",
              " 290: 'bodies',\n",
              " 291: 'lot',\n",
              " 292: 'away',\n",
              " 293: 'voting',\n",
              " 294: 'hair',\n",
              " 295: 'double',\n",
              " 296: 'frontrunner',\n",
              " 297: 'comments',\n",
              " 298: 'future',\n",
              " 299: 'learned',\n",
              " 300: 'point',\n",
              " 301: 'gay',\n",
              " 302: 'come',\n",
              " 303: 'favorite',\n",
              " 304: 'feel',\n",
              " 305: 'democrat',\n",
              " 306: 'democraticdebates',\n",
              " 307: 'bretbaier',\n",
              " 308: 'discussing',\n",
              " 309: 'came',\n",
              " 310: 'misogyny',\n",
              " 311: 'check',\n",
              " 312: 'performance',\n",
              " 313: 'voters',\n",
              " 314: 'shit',\n",
              " 315: 'pretty',\n",
              " 316: 'work',\n",
              " 317: 'nt',\n",
              " 318: 'far',\n",
              " 319: 'act',\n",
              " 320: 'digit',\n",
              " 321: 'conservative',\n",
              " 322: 'post',\n",
              " 323: 'tax',\n",
              " 324: 'boy',\n",
              " 325: '9',\n",
              " 326: 'campaign',\n",
              " 327: 'morning',\n",
              " 328: 'facebook',\n",
              " 329: 'civil',\n",
              " 330: 'mention',\n",
              " 331: 'game',\n",
              " 332: 'thank',\n",
              " 333: 'called',\n",
              " 334: 'deserve',\n",
              " 335: 'isis',\n",
              " 336: 'terrorism',\n",
              " 337: 'important',\n",
              " 338: 'maybe',\n",
              " 339: 'p2',\n",
              " 340: 'debatewithbernie',\n",
              " 341: 'winners',\n",
              " 342: 'damn',\n",
              " 343: 'wow',\n",
              " 344: 'planned',\n",
              " 345: 'single',\n",
              " 346: 'start',\n",
              " 347: 'frankluntz',\n",
              " 348: 'gave',\n",
              " 349: '8',\n",
              " 350: 'times',\n",
              " 351: 'pimps',\n",
              " 352: 'rosie',\n",
              " 353: 'statements',\n",
              " 354: 'hope',\n",
              " 355: 'group',\n",
              " 356: 'brought',\n",
              " 357: 'answers',\n",
              " 358: 'commercial',\n",
              " 359: 'm',\n",
              " 360: 'issue',\n",
              " 361: 'wrong',\n",
              " 362: 'christian',\n",
              " 363: 'parenthood',\n",
              " 364: 'deal',\n",
              " 365: 'record',\n",
              " 366: 'old',\n",
              " 367: 'youtube',\n",
              " 368: 'b',\n",
              " 369: 'conservatives',\n",
              " 370: 'end',\n",
              " 371: 'reality',\n",
              " 372: 'class',\n",
              " 373: 'focus',\n",
              " 374: 'wins',\n",
              " 375: 'stupid',\n",
              " 376: 'thoughts',\n",
              " 377: 'loser',\n",
              " 378: 'zy12bdukx9',\n",
              " 379: 'went',\n",
              " 380: 'r',\n",
              " 381: 'friends',\n",
              " 382: 'process',\n",
              " 383: 'primary',\n",
              " 384: 'jesus',\n",
              " 385: 'i',\n",
              " 386: 'lost',\n",
              " 387: 'took',\n",
              " 388: 'poor',\n",
              " 389: 'sense',\n",
              " 390: 'left',\n",
              " 391: 'gov',\n",
              " 392: 'interesting',\n",
              " 393: 'code',\n",
              " 394: 'twitterland',\n",
              " 395: 'moment',\n",
              " 396: 'losers',\n",
              " 397: 'security',\n",
              " 398: 'office',\n",
              " 399: 'read',\n",
              " 400: 'agree',\n",
              " 401: 'kind',\n",
              " 402: 'fuck',\n",
              " 403: 'green',\n",
              " 404: 'brain',\n",
              " 405: 'head',\n",
              " 406: 'vs',\n",
              " 407: 'election',\n",
              " 408: 'kids',\n",
              " 409: 'told',\n",
              " 410: 'find',\n",
              " 411: 'missed',\n",
              " 412: 'bernie',\n",
              " 413: 'having',\n",
              " 414: 'words',\n",
              " 415: 'fucking',\n",
              " 416: 'gun',\n",
              " 417: 'police',\n",
              " 418: 'saw',\n",
              " 419: 'straight',\n",
              " 420: 'gopdeb',\n",
              " 421: 'tweets',\n",
              " 422: 'moderator',\n",
              " 423: 'line',\n",
              " 424: 'loved',\n",
              " 425: 'half',\n",
              " 426: 'bunch',\n",
              " 427: 'statement',\n",
              " 428: 'instead',\n",
              " 429: 'o',\n",
              " 430: 'entertaining',\n",
              " 431: 'florida',\n",
              " 432: 'berniesanders',\n",
              " 433: 'asking',\n",
              " 434: 'apple',\n",
              " 435: 'heard',\n",
              " 436: 'funny',\n",
              " 437: 'fat',\n",
              " 438: 'na',\n",
              " 439: 'correct',\n",
              " 440: 'miss',\n",
              " 441: 'tweet',\n",
              " 442: 'respect',\n",
              " 443: 'poll',\n",
              " 444: 'tough',\n",
              " 445: 'ronald',\n",
              " 446: 'minutes',\n",
              " 447: 'ccot',\n",
              " 448: 'racism',\n",
              " 449: 'so',\n",
              " 450: 'remove',\n",
              " 451: 'hold',\n",
              " 452: 'primaries',\n",
              " 453: 'government',\n",
              " 454: 'jobs',\n",
              " 455: 'gon',\n",
              " 456: '1st',\n",
              " 457: 'giving',\n",
              " 458: 'direct',\n",
              " 459: 'fear',\n",
              " 460: 'auhlnza3ww',\n",
              " 461: 'martini',\n",
              " 462: 'history',\n",
              " 463: 'wonder',\n",
              " 464: 'received',\n",
              " 465: 'year',\n",
              " 466: 'mentioned',\n",
              " 467: 'video',\n",
              " 468: 'sentedcruz',\n",
              " 469: 'analysis',\n",
              " 470: 'perfect',\n",
              " 471: 'laws',\n",
              " 472: 'foxnewsdebate',\n",
              " 473: 'cancel',\n",
              " 474: 'hugged',\n",
              " 475: 'guess',\n",
              " 476: 'place',\n",
              " 477: 'mexican',\n",
              " 478: 'stand',\n",
              " 479: 'breaking',\n",
              " 480: 'schultz',\n",
              " 481: 'send',\n",
              " 482: 'play',\n",
              " 483: 'stay',\n",
              " 484: 'cruzcrew',\n",
              " 485: 'points',\n",
              " 486: 'matter',\n",
              " 487: 'koch',\n",
              " 488: 'wasserman',\n",
              " 489: 'killing',\n",
              " 490: 'marriage',\n",
              " 491: 'ok',\n",
              " 492: 'ass',\n",
              " 493: 'nice',\n",
              " 494: 'talks',\n",
              " 495: 'headed',\n",
              " 496: 'moments',\n",
              " 497: 'pjnet',\n",
              " 498: 'wish',\n",
              " 499: 'kellyfile',\n",
              " 500: 'recap',\n",
              " 501: 'free',\n",
              " 502: 'compton',\n",
              " 503: 'disappointed',\n",
              " 504: 'd',\n",
              " 505: 'realize',\n",
              " 506: 'goptbt',\n",
              " 507: 'cleveland',\n",
              " 508: 'policy',\n",
              " 509: 'politically',\n",
              " 510: 'wondering',\n",
              " 511: 'pay',\n",
              " 512: 'hangover',\n",
              " 513: 'gopde',\n",
              " 514: 'coming',\n",
              " 515: 'gone',\n",
              " 516: 'perry',\n",
              " 517: 'pissed',\n",
              " 518: 'obamacare',\n",
              " 519: 'russia',\n",
              " 520: 'attacks',\n",
              " 521: 'showed',\n",
              " 522: 'nights',\n",
              " 523: '6',\n",
              " 524: 'dc',\n",
              " 525: 'sorry',\n",
              " 526: 'yeah',\n",
              " 527: 'sexuality',\n",
              " 528: 'anointed',\n",
              " 529: 'cut',\n",
              " 530: 'remember',\n",
              " 531: 'h',\n",
              " 532: 'bencarson',\n",
              " 533: 'gopdeba',\n",
              " 534: 'sanders',\n",
              " 535: 'taking',\n",
              " 536: 'games',\n",
              " 537: 'tight',\n",
              " 538: 'stands',\n",
              " 539: 'ht',\n",
              " 540: 'crazy',\n",
              " 541: 'liberal',\n",
              " 542: 'proud',\n",
              " 543: 'earned',\n",
              " 544: 'past',\n",
              " 545: 'imwithhuck',\n",
              " 546: 'second',\n",
              " 547: 'comedy',\n",
              " 548: 'congress',\n",
              " 549: 'hours',\n",
              " 550: 'msnbc',\n",
              " 551: 'calls',\n",
              " 552: 'response',\n",
              " 553: 'htt',\n",
              " 554: 'probably',\n",
              " 555: 'jonvoyage',\n",
              " 556: 'failed',\n",
              " 557: 'rich',\n",
              " 558: 'alien',\n",
              " 559: 'air',\n",
              " 560: 'totally',\n",
              " 561: 'leave',\n",
              " 562: 'dad',\n",
              " 563: 'usa',\n",
              " 564: 'polls',\n",
              " 565: 'establishment',\n",
              " 566: 'common',\n",
              " 567: 'shows',\n",
              " 568: 'choice',\n",
              " 569: 'thinking',\n",
              " 570: 'morningjoe',\n",
              " 571: '11',\n",
              " 572: '7',\n",
              " 573: 'joke',\n",
              " 574: 'drudge',\n",
              " 575: 'uniteblue',\n",
              " 576: 'use',\n",
              " 577: 'china',\n",
              " 578: 'absolutely',\n",
              " 579: 'round',\n",
              " 580: 'can',\n",
              " 581: 'correctness',\n",
              " 582: 'dwstweets',\n",
              " 583: 'anti',\n",
              " 584: 'irandeal',\n",
              " 585: 'reform',\n",
              " 586: 'finally',\n",
              " 587: 'idiots',\n",
              " 588: 'outta',\n",
              " 589: 'constitution',\n",
              " 590: '16',\n",
              " 591: 'everybody',\n",
              " 592: 'dems',\n",
              " 593: 'church',\n",
              " 594: '💨',\n",
              " 595: 'destroy',\n",
              " 596: 'business',\n",
              " 597: 'status',\n",
              " 598: 'playing',\n",
              " 599: 'rush',\n",
              " 600: 'jon',\n",
              " 601: 'carly2016',\n",
              " 602: 'farrakhan',\n",
              " 603: 'bor',\n",
              " 604: 'legal',\n",
              " 605: 'pledge',\n",
              " 606: 'bimbo',\n",
              " 607: 'wall',\n",
              " 608: 'mr',\n",
              " 609: 'middle',\n",
              " 610: 'prostitutes',\n",
              " 611: 'canttrustabush',\n",
              " 612: 'pm',\n",
              " 613: 'folks',\n",
              " 614: 'wakeupamerica',\n",
              " 615: '2nd',\n",
              " 616: 'gopclowncar',\n",
              " 617: 'yesterday',\n",
              " 618: 'changed',\n",
              " 619: 'ppl',\n",
              " 620: 'tried',\n",
              " 621: 'bankruptcy',\n",
              " 622: 'lklffn2lfy',\n",
              " 623: 'definitely',\n",
              " 624: 'high',\n",
              " 625: 'personal',\n",
              " 626: 'retweeted',\n",
              " 627: '’',\n",
              " 628: 'smart',\n",
              " 629: 'economy',\n",
              " 630: 'knows',\n",
              " 631: 'total',\n",
              " 632: 'y',\n",
              " 633: 'different',\n",
              " 634: 'dream',\n",
              " 635: 'walker16',\n",
              " 636: 'working',\n",
              " 637: 'clown',\n",
              " 638: 'worst',\n",
              " 639: 'father',\n",
              " 640: 'refuse',\n",
              " 641: 'brother',\n",
              " 642: 'mess',\n",
              " 643: 'drinking',\n",
              " 644: 'bill',\n",
              " 645: 'huge',\n",
              " 646: 'shut',\n",
              " 647: 'lies',\n",
              " 648: 'racist',\n",
              " 649: 'nation',\n",
              " 650: 'waiting',\n",
              " 651: 'national',\n",
              " 652: 'spent',\n",
              " 653: 'boo',\n",
              " 654: 'coverage',\n",
              " 655: 'nominee',\n",
              " 656: 'voter',\n",
              " 657: 'lets',\n",
              " 658: 'public',\n",
              " 659: 'topics',\n",
              " 660: 'learn',\n",
              " 661: 'wedding',\n",
              " 662: 'idea',\n",
              " 663: 'dog',\n",
              " 664: 'facing',\n",
              " 665: 'early',\n",
              " 666: 'elected',\n",
              " 667: 'families',\n",
              " 668: 'surprise',\n",
              " 669: 'stewart',\n",
              " 670: 'chance',\n",
              " 671: 'die',\n",
              " 672: 'hand',\n",
              " 673: 'mind',\n",
              " 674: 'human',\n",
              " 675: 'sold',\n",
              " 676: '—',\n",
              " 677: 'afraid',\n",
              " 678: 'home',\n",
              " 679: 'lives',\n",
              " 680: 'strong',\n",
              " 681: 'ff',\n",
              " 682: 'hilarious',\n",
              " 683: 'wisconsin',\n",
              " 684: 'looked',\n",
              " 685: 'education',\n",
              " 686: 'shot',\n",
              " 687: 'drink',\n",
              " 688: 'sober',\n",
              " 689: '8s67pz8a4a',\n",
              " 690: 'proved',\n",
              " 691: 'family',\n",
              " 692: 'sad',\n",
              " 693: 'listening',\n",
              " 694: 'sexism',\n",
              " 695: \"o'donnell\",\n",
              " 696: 'impressed',\n",
              " 697: 'course',\n",
              " 698: 'tlot',\n",
              " 699: 'budget',\n",
              " 700: 'megan',\n",
              " 701: 'sounds',\n",
              " 702: 'disgusting',\n",
              " 703: 'spoken',\n",
              " 704: 'rnc',\n",
              " 705: 'policies',\n",
              " 706: 'takes',\n",
              " 707: 'numbers',\n",
              " 708: 'veterans',\n",
              " 709: 'untill',\n",
              " 710: 'hopefuls',\n",
              " 711: 'brotherhood',\n",
              " 712: 'batsask',\n",
              " 713: 'fire',\n",
              " 714: 'ha',\n",
              " 715: 'glad',\n",
              " 716: '000',\n",
              " 717: 'washington',\n",
              " 718: 'q',\n",
              " 719: 'spoke',\n",
              " 720: 'based',\n",
              " 721: 'frank',\n",
              " 722: 'killed',\n",
              " 723: 'sound',\n",
              " 724: 'basically',\n",
              " 725: 'knew',\n",
              " 726: 'laugh',\n",
              " 727: 'hardball',\n",
              " 728: 'sets',\n",
              " 729: 'baby',\n",
              " 730: 'system',\n",
              " 731: 'standwithrand',\n",
              " 732: 'senator',\n",
              " 733: 'beat',\n",
              " 734: 'th',\n",
              " 735: 'unfathomable',\n",
              " 736: 'postmortem',\n",
              " 737: 'surreal',\n",
              " 738: 'reason',\n",
              " 739: 'house',\n",
              " 740: 'law',\n",
              " 741: 'view',\n",
              " 742: 'replace',\n",
              " 743: '️',\n",
              " 744: 'completely',\n",
              " 745: 'million',\n",
              " 746: 'self',\n",
              " 747: 'wanted',\n",
              " 748: 'number',\n",
              " 749: 'close',\n",
              " 750: 'mother',\n",
              " 751: 'stuff',\n",
              " 752: 'movement',\n",
              " 753: 'clowns',\n",
              " 754: 'ones',\n",
              " 755: 'power',\n",
              " 756: 'played',\n",
              " 757: 'tedcruz2016',\n",
              " 758: 'independent',\n",
              " 759: 'liberals',\n",
              " 760: 'liar',\n",
              " 761: 'small',\n",
              " 762: 'hates',\n",
              " 763: 'hunger',\n",
              " 764: 'toot',\n",
              " 765: 'libertyu',\n",
              " 766: 'comment',\n",
              " 767: 'movie',\n",
              " 768: 'taxes',\n",
              " 769: 'join',\n",
              " 770: 'pres',\n",
              " 771: 'super',\n",
              " 772: 'goes',\n",
              " 773: 'surprised',\n",
              " 774: 'biased',\n",
              " 775: 'honestly',\n",
              " 776: 'telling',\n",
              " 777: 'fucked',\n",
              " 778: 'makeamericagreatagain',\n",
              " 779: 'iraq',\n",
              " 780: 'report',\n",
              " 781: 'according',\n",
              " 782: 'rick',\n",
              " 783: 'talked',\n",
              " 784: 'entertainment',\n",
              " 785: 'hit',\n",
              " 786: 'lose',\n",
              " 787: 'brothers',\n",
              " 788: 'attention',\n",
              " 789: 'mentions',\n",
              " 790: 'sexist',\n",
              " 791: 'election2016',\n",
              " 792: 'trust',\n",
              " 793: 'snl',\n",
              " 794: 'circus',\n",
              " 795: 'gop2016',\n",
              " 796: 'raise',\n",
              " 797: 'anymore',\n",
              " 798: 'room',\n",
              " 799: 'foreign',\n",
              " 800: 'babies',\n",
              " 801: 'shame',\n",
              " 802: 'try',\n",
              " 803: 'final',\n",
              " 804: '2015',\n",
              " 805: 'amazing',\n",
              " 806: 'viewers',\n",
              " 807: 'leaders',\n",
              " 808: '30',\n",
              " 809: 'feelthebern',\n",
              " 810: 'advantage',\n",
              " 811: 'jokes',\n",
              " 812: 'hearing',\n",
              " 813: 'ridiculous',\n",
              " 814: 'terrible',\n",
              " 815: 'tomorrow',\n",
              " 816: 'mongering',\n",
              " 817: 'noamnesty',\n",
              " 818: 'exactly',\n",
              " 819: 'reaction',\n",
              " 820: 'actual',\n",
              " 821: 'birth',\n",
              " 822: 'ohio',\n",
              " 823: 'unions',\n",
              " 824: 'biff',\n",
              " 825: 'ready',\n",
              " 826: 'leading',\n",
              " 827: 'scary',\n",
              " 828: 'santorum',\n",
              " 829: 'lots',\n",
              " 830: 'f',\n",
              " 831: 'violence',\n",
              " 832: 'excellent',\n",
              " 833: 'fix',\n",
              " 834: 'millions',\n",
              " 835: 'substance',\n",
              " 836: 'understand',\n",
              " 837: 'remedy',\n",
              " 838: 'results',\n",
              " 839: '15',\n",
              " 840: 'ideas',\n",
              " 841: 'dumb',\n",
              " 842: 'separation',\n",
              " 843: 'mad',\n",
              " 844: 'himscrvikr',\n",
              " 845: 'jc9jhrrcpw',\n",
              " 846: 'reading',\n",
              " 847: 'worse',\n",
              " 848: 'abortions',\n",
              " 849: 'death',\n",
              " 850: 'literally',\n",
              " 851: 'hillary2016',\n",
              " 852: 'hour',\n",
              " 853: 'angry',\n",
              " 854: 'poverty',\n",
              " 855: 'republicandebate',\n",
              " 856: 'friend',\n",
              " 857: 'trumps',\n",
              " 858: 'takeaway',\n",
              " 859: 'highlights',\n",
              " 860: 'thedailyshow',\n",
              " 861: 'experiment',\n",
              " 862: 'inequality',\n",
              " 863: 'repeal',\n",
              " 864: 'plannedparenthood',\n",
              " 865: 'health',\n",
              " 866: 'speaks',\n",
              " 867: 'touch',\n",
              " 868: 'cutting',\n",
              " 869: 'lie',\n",
              " 870: 'sex',\n",
              " 871: 'awesome',\n",
              " 872: 'bashing',\n",
              " 873: 'means',\n",
              " 874: 'guns',\n",
              " 875: 'spot',\n",
              " 876: 'vagina',\n",
              " 877: 'starts',\n",
              " 878: 'mutant',\n",
              " 879: 'superpower',\n",
              " 880: 'tweeted',\n",
              " 881: 'defend',\n",
              " 882: 'attacking',\n",
              " 883: 'message',\n",
              " 884: '100',\n",
              " 885: 'pigs',\n",
              " 886: 'fail',\n",
              " 887: 'governorperry',\n",
              " 888: 'border',\n",
              " 889: 'cool',\n",
              " 890: 'climatechange',\n",
              " 891: 'forgot',\n",
              " 892: 'favorites',\n",
              " 893: 'general',\n",
              " 894: 'supporters',\n",
              " 895: 'likes',\n",
              " 896: 'healthcare',\n",
              " 897: 'swear',\n",
              " 898: 'finished',\n",
              " 899: 'democratic',\n",
              " 900: 'rape',\n",
              " 901: 'core',\n",
              " 902: 'illegals',\n",
              " 903: 'instagram',\n",
              " 904: 'seeing',\n",
              " 905: 'schools',\n",
              " 906: 'tweeting',\n",
              " 907: 'handed',\n",
              " 908: 'ignored',\n",
              " 909: 'turn',\n",
              " 910: 'unprofessional',\n",
              " 911: 'lived',\n",
              " 912: 'tuned',\n",
              " 913: 'rest',\n",
              " 914: 'bias',\n",
              " 915: 'late',\n",
              " 916: 'israel',\n",
              " 917: 'gives',\n",
              " 918: 'children',\n",
              " 919: 'bnrdebates',\n",
              " 920: 'combover',\n",
              " 921: 'fearful',\n",
              " 922: 'allenwestrepub',\n",
              " 923: 'ignorant',\n",
              " 924: 'bet',\n",
              " 925: 'trans',\n",
              " 926: 'rushlimbaugh',\n",
              " 927: 'billhemmer',\n",
              " 928: 'missing',\n",
              " 929: 'religion',\n",
              " 930: 'abt',\n",
              " 931: 'hug',\n",
              " 932: 'choices',\n",
              " 933: 'car',\n",
              " 934: 'handle',\n",
              " 935: 'forget',\n",
              " 936: 'star',\n",
              " 937: 'bencarson2016',\n",
              " 938: 'hurt',\n",
              " 939: 'teaparty',\n",
              " 940: 'buy',\n",
              " 941: '3rd',\n",
              " 942: 'choose',\n",
              " 943: 'crowd',\n",
              " 944: 'sick',\n",
              " 945: 'pc',\n",
              " 946: 'idiot',\n",
              " 947: 'omg',\n",
              " 948: 'share',\n",
              " 949: 'entire',\n",
              " 950: 'a',\n",
              " 951: 'businesses',\n",
              " 952: 'immigrants',\n",
              " 953: 'lack',\n",
              " 954: 'laughing',\n",
              " 955: 'boom',\n",
              " 956: 'female',\n",
              " 957: 'governing',\n",
              " 958: 'whererwomen',\n",
              " 959: 'womensrights',\n",
              " 960: 'is9gyb7p31',\n",
              " 961: '950mi0erjz',\n",
              " 962: 'taken',\n",
              " 963: 'vine',\n",
              " 964: 'body',\n",
              " 965: 'kasich4us',\n",
              " 966: 'team',\n",
              " 967: 'blessed',\n",
              " 968: 'ya',\n",
              " 969: 'open',\n",
              " 970: 'pig',\n",
              " 971: 'brilliant',\n",
              " 972: 'calm',\n",
              " 973: '17',\n",
              " 974: 'evidence',\n",
              " 975: 'teachers',\n",
              " 976: 'mailman',\n",
              " 977: 'honest',\n",
              " 978: 'fetuses',\n",
              " 979: 'p',\n",
              " 980: 'color',\n",
              " 981: 'offended',\n",
              " 982: 'hannity',\n",
              " 983: 'amendment',\n",
              " 984: 'worked',\n",
              " 985: 'treated',\n",
              " 986: 'fan',\n",
              " 987: 'barely',\n",
              " 988: 'powerful',\n",
              " 989: 'n',\n",
              " 990: 'low',\n",
              " 991: 'drop',\n",
              " 992: 'l',\n",
              " 993: 'drunk',\n",
              " 994: 'awful',\n",
              " 995: 'days',\n",
              " 996: 'turned',\n",
              " 997: 'impressive',\n",
              " 998: 'hot',\n",
              " 999: 'internationalbeerday',\n",
              " 1000: 'hrc',\n",
              " ...}"
            ]
          },
          "metadata": {},
          "execution_count": 105
        }
      ]
    },
    {
      "cell_type": "code",
      "source": [
        "X = token.texts_to_sequences(df.text2)"
      ],
      "metadata": {
        "id": "ikDZMtRt-7iu"
      },
      "execution_count": null,
      "outputs": []
    },
    {
      "cell_type": "code",
      "source": [
        "df.text2[0]"
      ],
      "metadata": {
        "colab": {
          "base_uri": "https://localhost:8080/",
          "height": 35
        },
        "id": "o_rqdNWm_ZHw",
        "outputId": "34ba6b25-663a-4c8c-a2ba-99cae37d28b0"
      },
      "execution_count": null,
      "outputs": [
        {
          "output_type": "execute_result",
          "data": {
            "text/plain": [
              "'feel climate change question night ? exactly . # gopdebate'"
            ],
            "application/vnd.google.colaboratory.intrinsic+json": {
              "type": "string"
            }
          },
          "metadata": {},
          "execution_count": 108
        }
      ]
    },
    {
      "cell_type": "code",
      "source": [
        "token.index_word[304]"
      ],
      "metadata": {
        "colab": {
          "base_uri": "https://localhost:8080/",
          "height": 35
        },
        "id": "p4FCqzAfBUUE",
        "outputId": "03bbb0fc-a99f-46d9-e8ba-011ec0514bcb"
      },
      "execution_count": null,
      "outputs": [
        {
          "output_type": "execute_result",
          "data": {
            "text/plain": [
              "'feel'"
            ],
            "application/vnd.google.colaboratory.intrinsic+json": {
              "type": "string"
            }
          },
          "metadata": {},
          "execution_count": 121
        }
      ]
    },
    {
      "cell_type": "code",
      "source": [
        "token.index_word[270]"
      ],
      "metadata": {
        "colab": {
          "base_uri": "https://localhost:8080/",
          "height": 35
        },
        "id": "gZGArAdDBf31",
        "outputId": "9b39c0c3-235b-439f-e1b6-c303f8a12d00"
      },
      "execution_count": null,
      "outputs": [
        {
          "output_type": "execute_result",
          "data": {
            "text/plain": [
              "'climate'"
            ],
            "application/vnd.google.colaboratory.intrinsic+json": {
              "type": "string"
            }
          },
          "metadata": {},
          "execution_count": 122
        }
      ]
    },
    {
      "cell_type": "code",
      "source": [
        "X[0]"
      ],
      "metadata": {
        "colab": {
          "base_uri": "https://localhost:8080/"
        },
        "id": "F9cDt_hM_gc_",
        "outputId": "f00a7da4-2cb3-4aa2-ee5c-64e05bd2e2fc"
      },
      "execution_count": null,
      "outputs": [
        {
          "output_type": "execute_result",
          "data": {
            "text/plain": [
              "[304, 270, 231, 40, 16, 818, 1]"
            ]
          },
          "metadata": {},
          "execution_count": 110
        }
      ]
    },
    {
      "cell_type": "code",
      "source": [
        "# token.word_counts - Word Count\n",
        "# token.word_index - Word Ranking"
      ],
      "metadata": {
        "id": "qGjtZ3TB_icG"
      },
      "execution_count": null,
      "outputs": []
    },
    {
      "cell_type": "code",
      "source": [
        "X_pad = pad_sequences(X)"
      ],
      "metadata": {
        "id": "OaIUrJtb_tAV"
      },
      "execution_count": null,
      "outputs": []
    },
    {
      "cell_type": "code",
      "source": [
        "X_pad[0]"
      ],
      "metadata": {
        "colab": {
          "base_uri": "https://localhost:8080/"
        },
        "id": "tdUmnvDY__Tn",
        "outputId": "a6472d09-d9a1-48d3-e22b-6ac581e7afec"
      },
      "execution_count": null,
      "outputs": [
        {
          "output_type": "execute_result",
          "data": {
            "text/plain": [
              "array([  0,   0,   0,   0,   0,   0,   0,   0,   0,   0,   0,   0,   0,\n",
              "         0,   0,   0,   0,   0,   0,   0,   0,   0,   0,   0,   0,   0,\n",
              "         0,   0,   0,   0,   0,   0, 304, 270, 231,  40,  16, 818,   1],\n",
              "      dtype=int32)"
            ]
          },
          "metadata": {},
          "execution_count": 115
        }
      ]
    },
    {
      "cell_type": "code",
      "source": [
        "X_pad.shape"
      ],
      "metadata": {
        "colab": {
          "base_uri": "https://localhost:8080/"
        },
        "id": "TbZF9XO6AFxS",
        "outputId": "5de227d1-0cf5-423e-c58d-77b47bf09fb1"
      },
      "execution_count": null,
      "outputs": [
        {
          "output_type": "execute_result",
          "data": {
            "text/plain": [
              "(13871, 39)"
            ]
          },
          "metadata": {},
          "execution_count": 116
        }
      ]
    },
    {
      "cell_type": "code",
      "source": [
        "len(X_pad[0]), len(X_pad[10]), len(X_pad[100]), len(X_pad[1000])"
      ],
      "metadata": {
        "colab": {
          "base_uri": "https://localhost:8080/"
        },
        "id": "kXCOh0WPAJV5",
        "outputId": "7cdb0b91-b9a7-4f60-998f-12bb6392d49f"
      },
      "execution_count": null,
      "outputs": [
        {
          "output_type": "execute_result",
          "data": {
            "text/plain": [
              "(39, 39, 39, 39)"
            ]
          },
          "metadata": {},
          "execution_count": 117
        }
      ]
    },
    {
      "cell_type": "code",
      "source": [
        "X[10]"
      ],
      "metadata": {
        "colab": {
          "base_uri": "https://localhost:8080/"
        },
        "id": "nDMN6u1WAi52",
        "outputId": "d2c4b5eb-2909-49bb-bf85-e54167cdce56"
      },
      "execution_count": null,
      "outputs": [
        {
          "output_type": "execute_result",
          "data": {
            "text/plain": [
              "[11, 1]"
            ]
          },
          "metadata": {},
          "execution_count": 118
        }
      ]
    },
    {
      "cell_type": "code",
      "source": [
        "X_pad[10]"
      ],
      "metadata": {
        "colab": {
          "base_uri": "https://localhost:8080/"
        },
        "id": "XTQ4LCaDAuM2",
        "outputId": "07c2579f-3132-4061-bfa2-354c02f6b066"
      },
      "execution_count": null,
      "outputs": [
        {
          "output_type": "execute_result",
          "data": {
            "text/plain": [
              "array([ 0,  0,  0,  0,  0,  0,  0,  0,  0,  0,  0,  0,  0,  0,  0,  0,  0,\n",
              "        0,  0,  0,  0,  0,  0,  0,  0,  0,  0,  0,  0,  0,  0,  0,  0,  0,\n",
              "        0,  0,  0, 11,  1], dtype=int32)"
            ]
          },
          "metadata": {},
          "execution_count": 119
        }
      ]
    },
    {
      "cell_type": "code",
      "source": [
        "model = tf.keras.models.Sequential()\n",
        "model.add(tf.keras.layers.Embedding(max_features, 128, input_length=X_pad.shape[1]))\n",
        "model.add(tf.keras.layers.LSTM(128, dropout=0.2))\n",
        "model.add(tf.keras.layers.Dense(3, activation='softmax'))"
      ],
      "metadata": {
        "id": "0QHGRJ56Avav"
      },
      "execution_count": null,
      "outputs": []
    },
    {
      "cell_type": "code",
      "source": [
        "model.compile(loss=tf.keras.losses.categorical_crossentropy,\n",
        "              metrics=[\"acc\"], optimizer='adam')"
      ],
      "metadata": {
        "id": "G-RUeB1TEoqE"
      },
      "execution_count": null,
      "outputs": []
    },
    {
      "cell_type": "code",
      "source": [
        "model.summary()"
      ],
      "metadata": {
        "colab": {
          "base_uri": "https://localhost:8080/"
        },
        "id": "vto3qhyfEyou",
        "outputId": "fffa1d86-5cff-4080-e586-0fc9f33d50ab"
      },
      "execution_count": null,
      "outputs": [
        {
          "output_type": "stream",
          "name": "stdout",
          "text": [
            "Model: \"sequential\"\n",
            "_________________________________________________________________\n",
            " Layer (type)                Output Shape              Param #   \n",
            "=================================================================\n",
            " embedding (Embedding)       (None, 39, 128)           256000    \n",
            "                                                                 \n",
            " lstm (LSTM)                 (None, 128)               131584    \n",
            "                                                                 \n",
            " dense (Dense)               (None, 3)                 387       \n",
            "                                                                 \n",
            "=================================================================\n",
            "Total params: 387,971\n",
            "Trainable params: 387,971\n",
            "Non-trainable params: 0\n",
            "_________________________________________________________________\n"
          ]
        }
      ]
    },
    {
      "cell_type": "code",
      "source": [
        "df.sentiment"
      ],
      "metadata": {
        "colab": {
          "base_uri": "https://localhost:8080/"
        },
        "id": "crFn8x4hE0sW",
        "outputId": "84893bb6-2d7c-4126-f864-c2988eab8733"
      },
      "execution_count": null,
      "outputs": [
        {
          "output_type": "execute_result",
          "data": {
            "text/plain": [
              "0         Neutral\n",
              "1        Positive\n",
              "2         Neutral\n",
              "3        Positive\n",
              "4        Positive\n",
              "           ...   \n",
              "13866    Negative\n",
              "13867    Positive\n",
              "13868    Positive\n",
              "13869    Negative\n",
              "13870    Positive\n",
              "Name: sentiment, Length: 13871, dtype: object"
            ]
          },
          "metadata": {},
          "execution_count": 126
        }
      ]
    },
    {
      "cell_type": "code",
      "source": [
        "Y = pd.get_dummies(df.sentiment)"
      ],
      "metadata": {
        "id": "ddDxsIqzE9AP"
      },
      "execution_count": null,
      "outputs": []
    },
    {
      "cell_type": "code",
      "source": [
        "Y"
      ],
      "metadata": {
        "colab": {
          "base_uri": "https://localhost:8080/",
          "height": 423
        },
        "id": "1HT2nD7KFBGp",
        "outputId": "4a4e5aa7-bef0-480d-c081-af8b769b1703"
      },
      "execution_count": null,
      "outputs": [
        {
          "output_type": "execute_result",
          "data": {
            "text/plain": [
              "       Negative  Neutral  Positive\n",
              "0             0        1         0\n",
              "1             0        0         1\n",
              "2             0        1         0\n",
              "3             0        0         1\n",
              "4             0        0         1\n",
              "...         ...      ...       ...\n",
              "13866         1        0         0\n",
              "13867         0        0         1\n",
              "13868         0        0         1\n",
              "13869         1        0         0\n",
              "13870         0        0         1\n",
              "\n",
              "[13871 rows x 3 columns]"
            ],
            "text/html": [
              "\n",
              "  <div id=\"df-5cfa82a4-7a57-4f9e-9c7f-5f4a8998ed55\">\n",
              "    <div class=\"colab-df-container\">\n",
              "      <div>\n",
              "<style scoped>\n",
              "    .dataframe tbody tr th:only-of-type {\n",
              "        vertical-align: middle;\n",
              "    }\n",
              "\n",
              "    .dataframe tbody tr th {\n",
              "        vertical-align: top;\n",
              "    }\n",
              "\n",
              "    .dataframe thead th {\n",
              "        text-align: right;\n",
              "    }\n",
              "</style>\n",
              "<table border=\"1\" class=\"dataframe\">\n",
              "  <thead>\n",
              "    <tr style=\"text-align: right;\">\n",
              "      <th></th>\n",
              "      <th>Negative</th>\n",
              "      <th>Neutral</th>\n",
              "      <th>Positive</th>\n",
              "    </tr>\n",
              "  </thead>\n",
              "  <tbody>\n",
              "    <tr>\n",
              "      <th>0</th>\n",
              "      <td>0</td>\n",
              "      <td>1</td>\n",
              "      <td>0</td>\n",
              "    </tr>\n",
              "    <tr>\n",
              "      <th>1</th>\n",
              "      <td>0</td>\n",
              "      <td>0</td>\n",
              "      <td>1</td>\n",
              "    </tr>\n",
              "    <tr>\n",
              "      <th>2</th>\n",
              "      <td>0</td>\n",
              "      <td>1</td>\n",
              "      <td>0</td>\n",
              "    </tr>\n",
              "    <tr>\n",
              "      <th>3</th>\n",
              "      <td>0</td>\n",
              "      <td>0</td>\n",
              "      <td>1</td>\n",
              "    </tr>\n",
              "    <tr>\n",
              "      <th>4</th>\n",
              "      <td>0</td>\n",
              "      <td>0</td>\n",
              "      <td>1</td>\n",
              "    </tr>\n",
              "    <tr>\n",
              "      <th>...</th>\n",
              "      <td>...</td>\n",
              "      <td>...</td>\n",
              "      <td>...</td>\n",
              "    </tr>\n",
              "    <tr>\n",
              "      <th>13866</th>\n",
              "      <td>1</td>\n",
              "      <td>0</td>\n",
              "      <td>0</td>\n",
              "    </tr>\n",
              "    <tr>\n",
              "      <th>13867</th>\n",
              "      <td>0</td>\n",
              "      <td>0</td>\n",
              "      <td>1</td>\n",
              "    </tr>\n",
              "    <tr>\n",
              "      <th>13868</th>\n",
              "      <td>0</td>\n",
              "      <td>0</td>\n",
              "      <td>1</td>\n",
              "    </tr>\n",
              "    <tr>\n",
              "      <th>13869</th>\n",
              "      <td>1</td>\n",
              "      <td>0</td>\n",
              "      <td>0</td>\n",
              "    </tr>\n",
              "    <tr>\n",
              "      <th>13870</th>\n",
              "      <td>0</td>\n",
              "      <td>0</td>\n",
              "      <td>1</td>\n",
              "    </tr>\n",
              "  </tbody>\n",
              "</table>\n",
              "<p>13871 rows × 3 columns</p>\n",
              "</div>\n",
              "      <button class=\"colab-df-convert\" onclick=\"convertToInteractive('df-5cfa82a4-7a57-4f9e-9c7f-5f4a8998ed55')\"\n",
              "              title=\"Convert this dataframe to an interactive table.\"\n",
              "              style=\"display:none;\">\n",
              "        \n",
              "  <svg xmlns=\"http://www.w3.org/2000/svg\" height=\"24px\"viewBox=\"0 0 24 24\"\n",
              "       width=\"24px\">\n",
              "    <path d=\"M0 0h24v24H0V0z\" fill=\"none\"/>\n",
              "    <path d=\"M18.56 5.44l.94 2.06.94-2.06 2.06-.94-2.06-.94-.94-2.06-.94 2.06-2.06.94zm-11 1L8.5 8.5l.94-2.06 2.06-.94-2.06-.94L8.5 2.5l-.94 2.06-2.06.94zm10 10l.94 2.06.94-2.06 2.06-.94-2.06-.94-.94-2.06-.94 2.06-2.06.94z\"/><path d=\"M17.41 7.96l-1.37-1.37c-.4-.4-.92-.59-1.43-.59-.52 0-1.04.2-1.43.59L10.3 9.45l-7.72 7.72c-.78.78-.78 2.05 0 2.83L4 21.41c.39.39.9.59 1.41.59.51 0 1.02-.2 1.41-.59l7.78-7.78 2.81-2.81c.8-.78.8-2.07 0-2.86zM5.41 20L4 18.59l7.72-7.72 1.47 1.35L5.41 20z\"/>\n",
              "  </svg>\n",
              "      </button>\n",
              "      \n",
              "  <style>\n",
              "    .colab-df-container {\n",
              "      display:flex;\n",
              "      flex-wrap:wrap;\n",
              "      gap: 12px;\n",
              "    }\n",
              "\n",
              "    .colab-df-convert {\n",
              "      background-color: #E8F0FE;\n",
              "      border: none;\n",
              "      border-radius: 50%;\n",
              "      cursor: pointer;\n",
              "      display: none;\n",
              "      fill: #1967D2;\n",
              "      height: 32px;\n",
              "      padding: 0 0 0 0;\n",
              "      width: 32px;\n",
              "    }\n",
              "\n",
              "    .colab-df-convert:hover {\n",
              "      background-color: #E2EBFA;\n",
              "      box-shadow: 0px 1px 2px rgba(60, 64, 67, 0.3), 0px 1px 3px 1px rgba(60, 64, 67, 0.15);\n",
              "      fill: #174EA6;\n",
              "    }\n",
              "\n",
              "    [theme=dark] .colab-df-convert {\n",
              "      background-color: #3B4455;\n",
              "      fill: #D2E3FC;\n",
              "    }\n",
              "\n",
              "    [theme=dark] .colab-df-convert:hover {\n",
              "      background-color: #434B5C;\n",
              "      box-shadow: 0px 1px 3px 1px rgba(0, 0, 0, 0.15);\n",
              "      filter: drop-shadow(0px 1px 2px rgba(0, 0, 0, 0.3));\n",
              "      fill: #FFFFFF;\n",
              "    }\n",
              "  </style>\n",
              "\n",
              "      <script>\n",
              "        const buttonEl =\n",
              "          document.querySelector('#df-5cfa82a4-7a57-4f9e-9c7f-5f4a8998ed55 button.colab-df-convert');\n",
              "        buttonEl.style.display =\n",
              "          google.colab.kernel.accessAllowed ? 'block' : 'none';\n",
              "\n",
              "        async function convertToInteractive(key) {\n",
              "          const element = document.querySelector('#df-5cfa82a4-7a57-4f9e-9c7f-5f4a8998ed55');\n",
              "          const dataTable =\n",
              "            await google.colab.kernel.invokeFunction('convertToInteractive',\n",
              "                                                     [key], {});\n",
              "          if (!dataTable) return;\n",
              "\n",
              "          const docLinkHtml = 'Like what you see? Visit the ' +\n",
              "            '<a target=\"_blank\" href=https://colab.research.google.com/notebooks/data_table.ipynb>data table notebook</a>'\n",
              "            + ' to learn more about interactive tables.';\n",
              "          element.innerHTML = '';\n",
              "          dataTable['output_type'] = 'display_data';\n",
              "          await google.colab.output.renderOutput(dataTable, element);\n",
              "          const docLink = document.createElement('div');\n",
              "          docLink.innerHTML = docLinkHtml;\n",
              "          element.appendChild(docLink);\n",
              "        }\n",
              "      </script>\n",
              "    </div>\n",
              "  </div>\n",
              "  "
            ]
          },
          "metadata": {},
          "execution_count": 128
        }
      ]
    },
    {
      "cell_type": "code",
      "source": [
        "model.fit(X_pad, Y, epochs=5)"
      ],
      "metadata": {
        "colab": {
          "base_uri": "https://localhost:8080/"
        },
        "id": "Aedwd9iPFClg",
        "outputId": "03d63307-6c7f-44e7-ba6e-697b6f3d302e"
      },
      "execution_count": null,
      "outputs": [
        {
          "output_type": "stream",
          "name": "stdout",
          "text": [
            "Epoch 1/5\n",
            "434/434 [==============================] - 43s 92ms/step - loss: 0.7917 - acc: 0.6599\n",
            "Epoch 2/5\n",
            "434/434 [==============================] - 46s 106ms/step - loss: 0.6681 - acc: 0.7132\n",
            "Epoch 3/5\n",
            "434/434 [==============================] - 40s 92ms/step - loss: 0.6204 - acc: 0.7323\n",
            "Epoch 4/5\n",
            "434/434 [==============================] - 39s 90ms/step - loss: 0.5817 - acc: 0.7464\n",
            "Epoch 5/5\n",
            "434/434 [==============================] - 39s 90ms/step - loss: 0.5495 - acc: 0.7630\n"
          ]
        },
        {
          "output_type": "execute_result",
          "data": {
            "text/plain": [
              "<keras.callbacks.History at 0x7f93f3e48af0>"
            ]
          },
          "metadata": {},
          "execution_count": 129
        }
      ]
    },
    {
      "cell_type": "code",
      "source": [],
      "metadata": {
        "id": "5ZxVUZEXFHNe"
      },
      "execution_count": null,
      "outputs": []
    }
  ]
}